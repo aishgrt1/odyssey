{
 "cells": [
  {
   "cell_type": "markdown",
   "metadata": {},
   "source": [
    "# Odyssey Tutorial"
   ]
  },
  {
   "cell_type": "markdown",
   "metadata": {},
   "source": [
    "Welcome to Odyssey! Odyssey is a Python package that can analyze python library usage on GitHub through Google BigQuery. The purpose of this tutorial is to provide you a high-level idea of how to use it. Let's begin!"
   ]
  },
  {
   "cell_type": "markdown",
   "metadata": {},
   "source": [
    "## Part 1: Work with GithubPython object"
   ]
  },
  {
   "cell_type": "markdown",
   "metadata": {},
   "source": [
    "We start by introducing a central piece of Odyssey -- GithubPython object. This is the object that connects to Github data using BigQuery. It takes care of all the BigQuery connection, SQL query building, result polling, etc. for you."
   ]
  },
  {
   "cell_type": "markdown",
   "metadata": {},
   "source": [
    "Let's start by creating a default GithubPython object. Because we didn't specify any package, the information we will get is about all data in the BigQuery Github database."
   ]
  },
  {
   "cell_type": "code",
   "execution_count": 1,
   "metadata": {
    "collapsed": false
   },
   "outputs": [],
   "source": [
    "from odyssey.core.bigquery.GithubPython import GithubPython\n",
    "gp = GithubPython()"
   ]
  },
  {
   "cell_type": "markdown",
   "metadata": {},
   "source": [
    "Let's try to see how many Python files in our BigQuery Github database."
   ]
  },
  {
   "cell_type": "markdown",
   "metadata": {},
   "source": [
    "You may think: \"Wow that's way less than I expect. Does it mean that we only have ~5.9 million Python files on Github? The answer is no. The main reason is that Google BigQuery only has access to open-sourced repos on Github (those who has certain licences). Therefore, it is just a small subset of the whole Github.\n",
    "\n",
    "That's why, if you search for *.py file using Github web GUI, the number you will get won't be comparable to the number you get here."
   ]
  },
  {
   "cell_type": "code",
   "execution_count": 2,
   "metadata": {
    "collapsed": false
   },
   "outputs": [
    {
     "name": "stdout",
     "output_type": "stream",
     "text": [
      "5995653\n"
     ]
    }
   ],
   "source": [
    "print(gp.get_count())"
   ]
  },
  {
   "cell_type": "markdown",
   "metadata": {},
   "source": [
    "Now let's create another GithubPython object, but this time, specify that the package we are interested in is sklearn.\n",
    "\n",
    "Also, Odyssey allows you to exclude forks of the package, by explicitly providing a list of keywords that shouldn't appear in the repo name or file path. In this case, scikit-learn is the one we should avoid counting."
   ]
  },
  {
   "cell_type": "code",
   "execution_count": 3,
   "metadata": {
    "collapsed": true
   },
   "outputs": [],
   "source": [
    "gp_sklearn = GithubPython(package=\"sklearn\", exclude_forks=[\"scikit-learn\"])"
   ]
  },
  {
   "cell_type": "markdown",
   "metadata": {},
   "source": [
    "Let's count then how many files that count \"sklearn\". **Caveat: Note that this is a simple string matching. So even if sklearn appears in comment or as a variable name, it will still count!**"
   ]
  },
  {
   "cell_type": "code",
   "execution_count": 4,
   "metadata": {
    "collapsed": false
   },
   "outputs": [
    {
     "name": "stdout",
     "output_type": "stream",
     "text": [
      "37262\n"
     ]
    }
   ],
   "source": [
    "print(gp_sklearn.get_count())"
   ]
  },
  {
   "cell_type": "markdown",
   "metadata": {},
   "source": [
    "If you want to see exactly what are those 37262 files that contain the word \"sklearn\", you can use get_all() to see all the entries. The return result is a list of BigQueryGithubEntry, a wrapper that provides nice utility function, such as get_url()."
   ]
  },
  {
   "cell_type": "code",
   "execution_count": 5,
   "metadata": {
    "collapsed": true
   },
   "outputs": [],
   "source": [
    "data = gp_sklearn.get_all()"
   ]
  },
  {
   "cell_type": "code",
   "execution_count": 6,
   "metadata": {
    "collapsed": false
   },
   "outputs": [
    {
     "name": "stdout",
     "output_type": "stream",
     "text": [
      "<class 'odyssey.core.bigquery.BigQueryGithubEntry.BigQueryGithubEntry'>\n"
     ]
    }
   ],
   "source": [
    "print(type(data[0]))"
   ]
  },
  {
   "cell_type": "code",
   "execution_count": 7,
   "metadata": {
    "collapsed": false
   },
   "outputs": [],
   "source": [
    "from odyssey.utils.output import pprint_ipynb"
   ]
  },
  {
   "cell_type": "code",
   "execution_count": 8,
   "metadata": {
    "collapsed": false
   },
   "outputs": [
    {
     "data": {
      "text/html": [
       "<style type=\"text/css\">.highlight .hll { background-color: #ffffcc }\n",
       ".highlight  { background: #f8f8f8; }\n",
       ".highlight .c { color: #408080; font-style: italic } /* Comment */\n",
       ".highlight .err { border: 1px solid #FF0000 } /* Error */\n",
       ".highlight .k { color: #008000; font-weight: bold } /* Keyword */\n",
       ".highlight .o { color: #666666 } /* Operator */\n",
       ".highlight .ch { color: #408080; font-style: italic } /* Comment.Hashbang */\n",
       ".highlight .cm { color: #408080; font-style: italic } /* Comment.Multiline */\n",
       ".highlight .cp { color: #BC7A00 } /* Comment.Preproc */\n",
       ".highlight .cpf { color: #408080; font-style: italic } /* Comment.PreprocFile */\n",
       ".highlight .c1 { color: #408080; font-style: italic } /* Comment.Single */\n",
       ".highlight .cs { color: #408080; font-style: italic } /* Comment.Special */\n",
       ".highlight .gd { color: #A00000 } /* Generic.Deleted */\n",
       ".highlight .ge { font-style: italic } /* Generic.Emph */\n",
       ".highlight .gr { color: #FF0000 } /* Generic.Error */\n",
       ".highlight .gh { color: #000080; font-weight: bold } /* Generic.Heading */\n",
       ".highlight .gi { color: #00A000 } /* Generic.Inserted */\n",
       ".highlight .go { color: #888888 } /* Generic.Output */\n",
       ".highlight .gp { color: #000080; font-weight: bold } /* Generic.Prompt */\n",
       ".highlight .gs { font-weight: bold } /* Generic.Strong */\n",
       ".highlight .gu { color: #800080; font-weight: bold } /* Generic.Subheading */\n",
       ".highlight .gt { color: #0044DD } /* Generic.Traceback */\n",
       ".highlight .kc { color: #008000; font-weight: bold } /* Keyword.Constant */\n",
       ".highlight .kd { color: #008000; font-weight: bold } /* Keyword.Declaration */\n",
       ".highlight .kn { color: #008000; font-weight: bold } /* Keyword.Namespace */\n",
       ".highlight .kp { color: #008000 } /* Keyword.Pseudo */\n",
       ".highlight .kr { color: #008000; font-weight: bold } /* Keyword.Reserved */\n",
       ".highlight .kt { color: #B00040 } /* Keyword.Type */\n",
       ".highlight .m { color: #666666 } /* Literal.Number */\n",
       ".highlight .s { color: #BA2121 } /* Literal.String */\n",
       ".highlight .na { color: #7D9029 } /* Name.Attribute */\n",
       ".highlight .nb { color: #008000 } /* Name.Builtin */\n",
       ".highlight .nc { color: #0000FF; font-weight: bold } /* Name.Class */\n",
       ".highlight .no { color: #880000 } /* Name.Constant */\n",
       ".highlight .nd { color: #AA22FF } /* Name.Decorator */\n",
       ".highlight .ni { color: #999999; font-weight: bold } /* Name.Entity */\n",
       ".highlight .ne { color: #D2413A; font-weight: bold } /* Name.Exception */\n",
       ".highlight .nf { color: #0000FF } /* Name.Function */\n",
       ".highlight .nl { color: #A0A000 } /* Name.Label */\n",
       ".highlight .nn { color: #0000FF; font-weight: bold } /* Name.Namespace */\n",
       ".highlight .nt { color: #008000; font-weight: bold } /* Name.Tag */\n",
       ".highlight .nv { color: #19177C } /* Name.Variable */\n",
       ".highlight .ow { color: #AA22FF; font-weight: bold } /* Operator.Word */\n",
       ".highlight .w { color: #bbbbbb } /* Text.Whitespace */\n",
       ".highlight .mb { color: #666666 } /* Literal.Number.Bin */\n",
       ".highlight .mf { color: #666666 } /* Literal.Number.Float */\n",
       ".highlight .mh { color: #666666 } /* Literal.Number.Hex */\n",
       ".highlight .mi { color: #666666 } /* Literal.Number.Integer */\n",
       ".highlight .mo { color: #666666 } /* Literal.Number.Oct */\n",
       ".highlight .sb { color: #BA2121 } /* Literal.String.Backtick */\n",
       ".highlight .sc { color: #BA2121 } /* Literal.String.Char */\n",
       ".highlight .sd { color: #BA2121; font-style: italic } /* Literal.String.Doc */\n",
       ".highlight .s2 { color: #BA2121 } /* Literal.String.Double */\n",
       ".highlight .se { color: #BB6622; font-weight: bold } /* Literal.String.Escape */\n",
       ".highlight .sh { color: #BA2121 } /* Literal.String.Heredoc */\n",
       ".highlight .si { color: #BB6688; font-weight: bold } /* Literal.String.Interpol */\n",
       ".highlight .sx { color: #008000 } /* Literal.String.Other */\n",
       ".highlight .sr { color: #BB6688 } /* Literal.String.Regex */\n",
       ".highlight .s1 { color: #BA2121 } /* Literal.String.Single */\n",
       ".highlight .ss { color: #19177C } /* Literal.String.Symbol */\n",
       ".highlight .bp { color: #008000 } /* Name.Builtin.Pseudo */\n",
       ".highlight .vc { color: #19177C } /* Name.Variable.Class */\n",
       ".highlight .vg { color: #19177C } /* Name.Variable.Global */\n",
       ".highlight .vi { color: #19177C } /* Name.Variable.Instance */\n",
       ".highlight .il { color: #666666 } /* Literal.Number.Integer.Long */</style><div class=\"highlight\"><pre><span></span><span class=\"ch\">#!/usr/bin/python</span>\n",
       "\n",
       "<span class=\"kn\">from</span> <span class=\"nn\">__future__</span> <span class=\"kn\">import</span> <span class=\"n\">division</span>\n",
       "<span class=\"kn\">from</span> <span class=\"nn\">sklearn.metrics</span> <span class=\"kn\">import</span> <span class=\"n\">jaccard_similarity_score</span>\n",
       "<span class=\"kn\">import</span> <span class=\"nn\">pickle</span>\n",
       "\n",
       "<span class=\"n\">data_file</span> <span class=\"o\">=</span> <span class=\"nb\">open</span><span class=\"p\">(</span><span class=\"s1\">&#39;test_files/data_10points_10dims.dat&#39;</span><span class=\"p\">,</span> <span class=\"s1\">&#39;r&#39;</span><span class=\"p\">)</span>\n",
       "<span class=\"n\">csr_matrix</span> <span class=\"o\">=</span> <span class=\"n\">pickle</span><span class=\"o\">.</span><span class=\"n\">load</span><span class=\"p\">(</span><span class=\"n\">data_file</span><span class=\"p\">)</span>\n",
       "<span class=\"n\">visited</span> <span class=\"o\">=</span> <span class=\"p\">[]</span>\n",
       "<span class=\"n\">noise</span> <span class=\"o\">=</span> <span class=\"p\">[]</span>\n",
       "<span class=\"n\">clusters</span> <span class=\"o\">=</span> <span class=\"p\">[]</span>\n",
       "<span class=\"n\">in_cluster</span> <span class=\"o\">=</span> <span class=\"p\">[]</span>\n",
       "\n",
       "<span class=\"nb\">id</span> <span class=\"o\">=</span> <span class=\"k\">lambda</span> <span class=\"n\">p</span><span class=\"p\">:</span> <span class=\"s1\">&#39;</span><span class=\"si\">%d%d</span><span class=\"s1\">&#39;</span><span class=\"o\">%</span><span class=\"p\">(</span><span class=\"n\">p</span><span class=\"p\">[</span><span class=\"mi\">0</span><span class=\"p\">],</span><span class=\"n\">p</span><span class=\"p\">[</span><span class=\"mi\">1</span><span class=\"p\">])</span>\n",
       "\n",
       "<span class=\"k\">def</span> <span class=\"nf\">mark_point</span><span class=\"p\">(</span><span class=\"n\">p</span><span class=\"p\">,</span> <span class=\"n\">table</span><span class=\"p\">):</span>\n",
       "\t<span class=\"n\">table</span><span class=\"o\">.</span><span class=\"n\">append</span><span class=\"p\">(</span><span class=\"n\">p</span><span class=\"p\">)</span>\n",
       "\n",
       "<span class=\"k\">def</span> <span class=\"nf\">is_marked</span><span class=\"p\">(</span><span class=\"n\">p</span><span class=\"p\">,</span> <span class=\"n\">table</span><span class=\"p\">):</span>\n",
       "\t<span class=\"k\">return</span> <span class=\"p\">(</span><span class=\"n\">p</span> <span class=\"ow\">in</span> <span class=\"n\">table</span><span class=\"p\">)</span>\n",
       "\n",
       "<span class=\"k\">def</span> <span class=\"nf\">distance</span><span class=\"p\">(</span><span class=\"n\">a</span><span class=\"p\">,</span> <span class=\"n\">b</span><span class=\"p\">):</span>\n",
       "\t<span class=\"n\">v1Index</span> <span class=\"o\">=</span> <span class=\"mi\">0</span>\n",
       "\t<span class=\"n\">v2Index</span> <span class=\"o\">=</span> <span class=\"mi\">0</span>\n",
       "\t<span class=\"n\">union</span> <span class=\"o\">=</span> <span class=\"mf\">0.0</span>\n",
       "\t<span class=\"n\">intersect</span> <span class=\"o\">=</span> <span class=\"mf\">0.0</span>\n",
       "\t<span class=\"k\">while</span> <span class=\"p\">(</span><span class=\"n\">v1Index</span> <span class=\"o\">&lt;</span> <span class=\"nb\">len</span><span class=\"p\">(</span><span class=\"n\">a</span><span class=\"p\">)</span> <span class=\"ow\">and</span> <span class=\"n\">v2Index</span> <span class=\"o\">&lt;</span> <span class=\"nb\">len</span><span class=\"p\">(</span><span class=\"n\">b</span><span class=\"p\">)):</span>\n",
       "\t\t<span class=\"k\">if</span> <span class=\"n\">a</span><span class=\"p\">[</span><span class=\"n\">v1Index</span><span class=\"p\">]</span> <span class=\"o\">==</span> <span class=\"n\">b</span><span class=\"p\">[</span><span class=\"n\">v2Index</span><span class=\"p\">]:</span>\n",
       "\t\t\t<span class=\"n\">union</span> <span class=\"o\">+=</span> <span class=\"mi\">1</span>\n",
       "\t\t\t<span class=\"n\">intersect</span> <span class=\"o\">+=</span> <span class=\"mi\">1</span>\n",
       "\t\t\t<span class=\"n\">v1Index</span> <span class=\"o\">+=</span> <span class=\"mi\">1</span>\n",
       "\t\t\t<span class=\"n\">v2Index</span> <span class=\"o\">+=</span> <span class=\"mi\">1</span>\n",
       "\t\t<span class=\"k\">elif</span> <span class=\"n\">a</span><span class=\"p\">[</span><span class=\"n\">v1Index</span><span class=\"p\">]</span> <span class=\"o\">&gt;</span> <span class=\"n\">b</span><span class=\"p\">[</span><span class=\"n\">v2Index</span><span class=\"p\">]:</span>\n",
       "\t\t\t<span class=\"n\">union</span> <span class=\"o\">+=</span> <span class=\"mi\">1</span>\n",
       "\t\t\t<span class=\"n\">v2Index</span> <span class=\"o\">+=</span> <span class=\"mi\">1</span>\n",
       "\t\t<span class=\"k\">elif</span> <span class=\"n\">a</span><span class=\"p\">[</span><span class=\"n\">v1Index</span><span class=\"p\">]</span> <span class=\"o\">&lt;</span> <span class=\"n\">b</span><span class=\"p\">[</span><span class=\"n\">v2Index</span><span class=\"p\">]:</span>\n",
       "\t\t\t<span class=\"n\">union</span> <span class=\"o\">+=</span> <span class=\"mi\">1</span>\n",
       "\t\t\t<span class=\"n\">v1Index</span> <span class=\"o\">+=</span> <span class=\"mi\">1</span>\t\t\n",
       "\n",
       "\t<span class=\"n\">union</span> <span class=\"o\">+=</span> <span class=\"nb\">len</span><span class=\"p\">(</span><span class=\"n\">a</span><span class=\"p\">)</span> <span class=\"o\">-</span> <span class=\"n\">v1Index</span>\n",
       "\t<span class=\"n\">union</span> <span class=\"o\">+=</span> <span class=\"nb\">len</span><span class=\"p\">(</span><span class=\"n\">b</span><span class=\"p\">)</span> <span class=\"o\">-</span> <span class=\"n\">v2Index</span>\n",
       "\n",
       "\t<span class=\"k\">if</span> <span class=\"n\">union</span> <span class=\"o\">==</span> <span class=\"mi\">0</span><span class=\"p\">:</span> <span class=\"k\">return</span> <span class=\"mi\">0</span>\n",
       "\t<span class=\"k\">return</span> <span class=\"mf\">1.0</span> <span class=\"o\">-</span> <span class=\"n\">intersect</span> <span class=\"o\">/</span> <span class=\"n\">union</span>\n",
       "<span class=\"c1\">#\tx = [0, 0]</span>\n",
       "<span class=\"c1\">#\tfor i in xrange(0, len(a)):</span>\n",
       "<span class=\"c1\">#\t\tx[0] += min(a[i], b[i])</span>\n",
       "<span class=\"c1\">#\t\tx[1] += max(a[i], b[i])</span>\n",
       "<span class=\"c1\">#\treturn 1 - x[0]/x[1]</span>\n",
       "\n",
       "<span class=\"k\">def</span> <span class=\"nf\">region_query</span><span class=\"p\">(</span><span class=\"n\">x</span><span class=\"p\">,</span> <span class=\"n\">eps</span><span class=\"p\">):</span>\n",
       "\t<span class=\"k\">def</span> <span class=\"nf\">findNeighbours</span><span class=\"p\">(</span><span class=\"n\">p</span><span class=\"p\">,</span><span class=\"n\">matrix</span><span class=\"p\">,</span><span class=\"n\">eps</span><span class=\"p\">,</span> <span class=\"n\">unclassifiedPoints</span><span class=\"p\">):</span>\n",
       "\t<span class=\"c1\">#s1 = time.time()</span>\n",
       "\t<span class=\"n\">n_points</span> <span class=\"o\">=</span> <span class=\"n\">matrix</span><span class=\"o\">.</span><span class=\"n\">shape</span><span class=\"p\">[</span><span class=\"mi\">0</span><span class=\"p\">]</span>\n",
       "\t<span class=\"n\">neighbours</span>  <span class=\"o\">=</span> <span class=\"p\">[]</span>\n",
       "\t<span class=\"n\">v</span> <span class=\"o\">=</span> <span class=\"n\">matrix</span><span class=\"p\">[</span><span class=\"n\">p</span><span class=\"p\">]</span><span class=\"o\">.</span><span class=\"n\">indices</span>\n",
       "\t<span class=\"k\">for</span> <span class=\"n\">i</span> <span class=\"ow\">in</span> <span class=\"n\">unclassifiedPoints</span><span class=\"p\">:</span>\n",
       "\t\t<span class=\"n\">jd</span> <span class=\"o\">=</span> <span class=\"n\">jaccardDistance</span><span class=\"p\">(</span><span class=\"n\">v</span><span class=\"p\">,</span> <span class=\"n\">matrix</span><span class=\"p\">[</span><span class=\"n\">i</span><span class=\"p\">]</span><span class=\"o\">.</span><span class=\"n\">indices</span><span class=\"p\">)</span>\n",
       "\t\t<span class=\"k\">if</span> <span class=\"n\">eps</span> <span class=\"o\">&gt;=</span> <span class=\"n\">jd</span><span class=\"p\">:</span>\n",
       "\t\t\t<span class=\"n\">neighbours</span><span class=\"o\">.</span><span class=\"n\">append</span><span class=\"p\">(</span><span class=\"n\">i</span><span class=\"p\">)</span>\n",
       "\n",
       "\t<span class=\"c1\">#s2 = time.time()\t</span>\n",
       "\t<span class=\"c1\">#print s2 - s1</span>\n",
       "\t<span class=\"k\">return</span> <span class=\"n\">neighbours</span>\t\n",
       "\t<span class=\"c1\">#X = []</span>\n",
       "\t<span class=\"c1\">#for row_number, row in enumerate(csr_matrix):</span>\n",
       "\t<span class=\"c1\">#\tfor indice in row.indices:</span>\n",
       "\t<span class=\"c1\">#\t\tp = (row_number, indice)</span>\n",
       "\t<span class=\"c1\">#\t\tif distance(x, p) &lt;= eps:</span>\n",
       "\t<span class=\"c1\">#\t\t\tX.append(p)</span>\n",
       "\t<span class=\"c1\">#print X</span>\n",
       "\t<span class=\"c1\">#return X</span>\n",
       "\n",
       "<span class=\"k\">def</span> <span class=\"nf\">expand_cluster</span><span class=\"p\">(</span><span class=\"n\">p</span><span class=\"p\">,</span> <span class=\"n\">neightbor_pts</span><span class=\"p\">,</span> <span class=\"n\">eps</span><span class=\"p\">,</span> <span class=\"n\">min_pts</span><span class=\"p\">):</span>\n",
       "\t<span class=\"n\">c</span> <span class=\"o\">=</span> <span class=\"p\">[</span><span class=\"n\">p</span><span class=\"p\">]</span>\n",
       "\t<span class=\"n\">mark_point</span><span class=\"p\">(</span><span class=\"nb\">id</span><span class=\"p\">(</span><span class=\"n\">p</span><span class=\"p\">),</span> <span class=\"n\">in_cluster</span><span class=\"p\">)</span>\n",
       "\n",
       "\t<span class=\"k\">for</span> <span class=\"n\">pn</span> <span class=\"ow\">in</span> <span class=\"n\">neightbor_pts</span><span class=\"p\">:</span>\n",
       "\t\t<span class=\"k\">if</span> <span class=\"ow\">not</span> <span class=\"n\">is_marked</span><span class=\"p\">(</span><span class=\"nb\">id</span><span class=\"p\">(</span><span class=\"n\">pn</span><span class=\"p\">),</span> <span class=\"n\">visited</span><span class=\"p\">):</span>\n",
       "\t\t\t\n",
       "\t\t\t<span class=\"n\">mark_point</span><span class=\"p\">(</span><span class=\"nb\">id</span><span class=\"p\">(</span><span class=\"n\">pn</span><span class=\"p\">),</span> <span class=\"n\">visited</span><span class=\"p\">)</span>\n",
       "\t\t\t<span class=\"n\">neightbor_pnts</span> <span class=\"o\">=</span> <span class=\"n\">region_query</span><span class=\"p\">(</span><span class=\"n\">pn</span><span class=\"p\">,</span> <span class=\"n\">eps</span><span class=\"p\">)</span>\n",
       "\t\t\t\n",
       "\t\t\t<span class=\"k\">if</span> <span class=\"nb\">len</span><span class=\"p\">(</span><span class=\"n\">neightbor_pnts</span><span class=\"p\">)</span> <span class=\"o\">&gt;=</span> <span class=\"n\">min_pts</span><span class=\"p\">:</span>\n",
       "\t\t\t\t<span class=\"k\">print</span> <span class=\"nb\">len</span><span class=\"p\">(</span><span class=\"n\">neightbor_pnts</span><span class=\"p\">)</span>\n",
       "\t\t\t\t<span class=\"n\">neightbor_pts</span> <span class=\"o\">+=</span> <span class=\"n\">neightbor_pnts</span>\n",
       "\n",
       "\t\t\t<span class=\"k\">if</span> <span class=\"ow\">not</span> <span class=\"n\">is_marked</span><span class=\"p\">(</span><span class=\"nb\">id</span><span class=\"p\">(</span><span class=\"n\">pn</span><span class=\"p\">),</span> <span class=\"n\">in_cluster</span><span class=\"p\">):</span>\n",
       "\t\t\t\t<span class=\"n\">c</span><span class=\"o\">.</span><span class=\"n\">append</span><span class=\"p\">(</span><span class=\"n\">pn</span><span class=\"p\">)</span>\n",
       "\t\t\t\t<span class=\"k\">print</span> <span class=\"n\">c</span>\n",
       "\t\t\t\t<span class=\"n\">mark_point</span><span class=\"p\">(</span><span class=\"nb\">id</span><span class=\"p\">(</span><span class=\"n\">p</span><span class=\"p\">),</span> <span class=\"n\">in_cluster</span><span class=\"p\">)</span>\n",
       "\t<span class=\"k\">return</span> <span class=\"n\">c</span>\n",
       "\n",
       "<span class=\"k\">def</span> <span class=\"nf\">DBSCAN</span><span class=\"p\">(</span><span class=\"n\">eps</span><span class=\"p\">,</span> <span class=\"n\">min_pts</span><span class=\"p\">):</span>\n",
       "\t<span class=\"k\">for</span> <span class=\"n\">row_number</span><span class=\"p\">,</span> <span class=\"n\">row</span> <span class=\"ow\">in</span> <span class=\"nb\">enumerate</span><span class=\"p\">(</span><span class=\"n\">csr_matrix</span><span class=\"p\">):</span>\n",
       "\t\t<span class=\"k\">for</span> <span class=\"n\">indice</span> <span class=\"ow\">in</span> <span class=\"n\">row</span><span class=\"o\">.</span><span class=\"n\">indices</span><span class=\"p\">:</span>\n",
       "\t\t\t<span class=\"n\">p</span> <span class=\"o\">=</span> <span class=\"p\">(</span><span class=\"n\">row_number</span><span class=\"p\">,</span> <span class=\"n\">indice</span><span class=\"p\">)</span>\n",
       "\t\t\t<span class=\"k\">if</span> <span class=\"n\">is_marked</span><span class=\"p\">(</span><span class=\"nb\">id</span><span class=\"p\">(</span><span class=\"n\">p</span><span class=\"p\">),</span> <span class=\"n\">visited</span><span class=\"p\">):</span>\n",
       "\t\t\t\t<span class=\"k\">continue</span>\n",
       "\n",
       "\t\t\t<span class=\"n\">mark_point</span><span class=\"p\">(</span><span class=\"nb\">id</span><span class=\"p\">(</span><span class=\"n\">p</span><span class=\"p\">),</span> <span class=\"n\">visited</span><span class=\"p\">)</span>\n",
       "\t\t\t<span class=\"n\">neightbor_pts</span> <span class=\"o\">=</span> <span class=\"n\">region_query</span><span class=\"p\">(</span><span class=\"n\">p</span><span class=\"p\">,</span> <span class=\"n\">eps</span><span class=\"p\">)</span>\n",
       "\t\t\t\n",
       "\t\t\t<span class=\"k\">if</span> <span class=\"nb\">len</span><span class=\"p\">(</span><span class=\"n\">neightbor_pts</span><span class=\"p\">)</span> <span class=\"o\">&lt;</span> <span class=\"n\">min_pts</span><span class=\"p\">:</span>\n",
       "\t\t\t\t<span class=\"n\">mark_point</span><span class=\"p\">(</span><span class=\"nb\">id</span><span class=\"p\">(</span><span class=\"n\">p</span><span class=\"p\">),</span> <span class=\"n\">noise</span><span class=\"p\">)</span>\n",
       "\t\t\t\t<span class=\"k\">continue</span>\n",
       "\n",
       "\t\t\t<span class=\"n\">clusters</span><span class=\"o\">.</span><span class=\"n\">append</span><span class=\"p\">(</span><span class=\"n\">expand_cluster</span><span class=\"p\">(</span><span class=\"n\">p</span><span class=\"p\">,</span> <span class=\"n\">neightbor_pts</span><span class=\"p\">,</span> <span class=\"n\">eps</span><span class=\"p\">,</span> <span class=\"n\">min_pts</span><span class=\"p\">))</span>\n",
       "\n",
       "<span class=\"n\">DBSCAN</span><span class=\"p\">(</span><span class=\"mf\">0.4</span><span class=\"p\">,</span> <span class=\"mi\">2</span><span class=\"p\">)</span>\n",
       "\n",
       "<span class=\"k\">print</span> <span class=\"n\">csr_matrix</span>\n",
       "<span class=\"k\">print</span> <span class=\"n\">clusters</span>\n",
       "<span class=\"k\">print</span> <span class=\"nb\">len</span><span class=\"p\">(</span><span class=\"n\">clusters</span><span class=\"p\">)</span>\n",
       "</pre></div>\n"
      ],
      "text/plain": [
       "<IPython.core.display.HTML object>"
      ]
     },
     "metadata": {},
     "output_type": "display_data"
    }
   ],
   "source": [
    "pprint_ipynb(data[0])"
   ]
  },
  {
   "cell_type": "code",
   "execution_count": 9,
   "metadata": {
    "collapsed": false
   },
   "outputs": [
    {
     "data": {
      "text/plain": [
       "'https://github.com/MikkelsCykel/CTFBD/tree/master/week_04/ex41.py'"
      ]
     },
     "execution_count": 9,
     "metadata": {},
     "output_type": "execute_result"
    }
   ],
   "source": [
    "data[0].get_url() # a link to Github file"
   ]
  },
  {
   "cell_type": "markdown",
   "metadata": {},
   "source": [
    "## Part 2: Use filter to refine search"
   ]
  },
  {
   "cell_type": "markdown",
   "metadata": {},
   "source": [
    "Sometimes we are interested in searching for code snippet that contains usage of a specific class. In other cases, the criteria is a little bit more complicated, such as having \"X\" function and \"Y\" function in one file, or having \"Z\" alone. To support those need, filter is built. Let's now utilize its power to refine the search!"
   ]
  },
  {
   "cell_type": "code",
   "execution_count": 10,
   "metadata": {
    "collapsed": true
   },
   "outputs": [],
   "source": [
    "from odyssey.core.bigquery.filter import Contains, And, Or"
   ]
  },
  {
   "cell_type": "code",
   "execution_count": 11,
   "metadata": {
    "collapsed": true
   },
   "outputs": [],
   "source": [
    "# Let's define a filter that asks for either RandomForestClassifier or RandomForestRegressor\n",
    "rf_classifier_or_regressor = Or(Contains('RandomForestRegressor'),Contains('RandomForestClassifier'))"
   ]
  },
  {
   "cell_type": "code",
   "execution_count": 12,
   "metadata": {
    "collapsed": true
   },
   "outputs": [],
   "source": [
    "# Then another filter that asks for occurence of SVC\n",
    "svc = Contains('SVC')"
   ]
  },
  {
   "cell_type": "code",
   "execution_count": 13,
   "metadata": {
    "collapsed": false
   },
   "outputs": [],
   "source": [
    "# Connect the two using And\n",
    "# so we are interested in files that have both SVC and one of the two RandomForest models \n",
    "# (RandomForestClassifier or RandomForestRegressor) appearing at the same time.\n",
    "f = And(rf_classifier_or_regressor, svc)"
   ]
  },
  {
   "cell_type": "code",
   "execution_count": 14,
   "metadata": {
    "collapsed": false
   },
   "outputs": [],
   "source": [
    "rf_and_svc = gp_sklearn.get_all(f)"
   ]
  },
  {
   "cell_type": "code",
   "execution_count": 15,
   "metadata": {
    "collapsed": false
   },
   "outputs": [
    {
     "name": "stdout",
     "output_type": "stream",
     "text": [
      "1070\n"
     ]
    }
   ],
   "source": [
    "print(len(rf_and_svc))"
   ]
  },
  {
   "cell_type": "code",
   "execution_count": 16,
   "metadata": {
    "collapsed": false
   },
   "outputs": [
    {
     "data": {
      "text/html": [
       "<style type=\"text/css\">.highlight .hll { background-color: #ffffcc }\n",
       ".highlight  { background: #f8f8f8; }\n",
       ".highlight .c { color: #408080; font-style: italic } /* Comment */\n",
       ".highlight .err { border: 1px solid #FF0000 } /* Error */\n",
       ".highlight .k { color: #008000; font-weight: bold } /* Keyword */\n",
       ".highlight .o { color: #666666 } /* Operator */\n",
       ".highlight .ch { color: #408080; font-style: italic } /* Comment.Hashbang */\n",
       ".highlight .cm { color: #408080; font-style: italic } /* Comment.Multiline */\n",
       ".highlight .cp { color: #BC7A00 } /* Comment.Preproc */\n",
       ".highlight .cpf { color: #408080; font-style: italic } /* Comment.PreprocFile */\n",
       ".highlight .c1 { color: #408080; font-style: italic } /* Comment.Single */\n",
       ".highlight .cs { color: #408080; font-style: italic } /* Comment.Special */\n",
       ".highlight .gd { color: #A00000 } /* Generic.Deleted */\n",
       ".highlight .ge { font-style: italic } /* Generic.Emph */\n",
       ".highlight .gr { color: #FF0000 } /* Generic.Error */\n",
       ".highlight .gh { color: #000080; font-weight: bold } /* Generic.Heading */\n",
       ".highlight .gi { color: #00A000 } /* Generic.Inserted */\n",
       ".highlight .go { color: #888888 } /* Generic.Output */\n",
       ".highlight .gp { color: #000080; font-weight: bold } /* Generic.Prompt */\n",
       ".highlight .gs { font-weight: bold } /* Generic.Strong */\n",
       ".highlight .gu { color: #800080; font-weight: bold } /* Generic.Subheading */\n",
       ".highlight .gt { color: #0044DD } /* Generic.Traceback */\n",
       ".highlight .kc { color: #008000; font-weight: bold } /* Keyword.Constant */\n",
       ".highlight .kd { color: #008000; font-weight: bold } /* Keyword.Declaration */\n",
       ".highlight .kn { color: #008000; font-weight: bold } /* Keyword.Namespace */\n",
       ".highlight .kp { color: #008000 } /* Keyword.Pseudo */\n",
       ".highlight .kr { color: #008000; font-weight: bold } /* Keyword.Reserved */\n",
       ".highlight .kt { color: #B00040 } /* Keyword.Type */\n",
       ".highlight .m { color: #666666 } /* Literal.Number */\n",
       ".highlight .s { color: #BA2121 } /* Literal.String */\n",
       ".highlight .na { color: #7D9029 } /* Name.Attribute */\n",
       ".highlight .nb { color: #008000 } /* Name.Builtin */\n",
       ".highlight .nc { color: #0000FF; font-weight: bold } /* Name.Class */\n",
       ".highlight .no { color: #880000 } /* Name.Constant */\n",
       ".highlight .nd { color: #AA22FF } /* Name.Decorator */\n",
       ".highlight .ni { color: #999999; font-weight: bold } /* Name.Entity */\n",
       ".highlight .ne { color: #D2413A; font-weight: bold } /* Name.Exception */\n",
       ".highlight .nf { color: #0000FF } /* Name.Function */\n",
       ".highlight .nl { color: #A0A000 } /* Name.Label */\n",
       ".highlight .nn { color: #0000FF; font-weight: bold } /* Name.Namespace */\n",
       ".highlight .nt { color: #008000; font-weight: bold } /* Name.Tag */\n",
       ".highlight .nv { color: #19177C } /* Name.Variable */\n",
       ".highlight .ow { color: #AA22FF; font-weight: bold } /* Operator.Word */\n",
       ".highlight .w { color: #bbbbbb } /* Text.Whitespace */\n",
       ".highlight .mb { color: #666666 } /* Literal.Number.Bin */\n",
       ".highlight .mf { color: #666666 } /* Literal.Number.Float */\n",
       ".highlight .mh { color: #666666 } /* Literal.Number.Hex */\n",
       ".highlight .mi { color: #666666 } /* Literal.Number.Integer */\n",
       ".highlight .mo { color: #666666 } /* Literal.Number.Oct */\n",
       ".highlight .sb { color: #BA2121 } /* Literal.String.Backtick */\n",
       ".highlight .sc { color: #BA2121 } /* Literal.String.Char */\n",
       ".highlight .sd { color: #BA2121; font-style: italic } /* Literal.String.Doc */\n",
       ".highlight .s2 { color: #BA2121 } /* Literal.String.Double */\n",
       ".highlight .se { color: #BB6622; font-weight: bold } /* Literal.String.Escape */\n",
       ".highlight .sh { color: #BA2121 } /* Literal.String.Heredoc */\n",
       ".highlight .si { color: #BB6688; font-weight: bold } /* Literal.String.Interpol */\n",
       ".highlight .sx { color: #008000 } /* Literal.String.Other */\n",
       ".highlight .sr { color: #BB6688 } /* Literal.String.Regex */\n",
       ".highlight .s1 { color: #BA2121 } /* Literal.String.Single */\n",
       ".highlight .ss { color: #19177C } /* Literal.String.Symbol */\n",
       ".highlight .bp { color: #008000 } /* Name.Builtin.Pseudo */\n",
       ".highlight .vc { color: #19177C } /* Name.Variable.Class */\n",
       ".highlight .vg { color: #19177C } /* Name.Variable.Global */\n",
       ".highlight .vi { color: #19177C } /* Name.Variable.Instance */\n",
       ".highlight .il { color: #666666 } /* Literal.Number.Integer.Long */</style><div class=\"highlight\"><pre><span></span><span class=\"c1\"># coding: utf-8</span>\n",
       "\n",
       "<span class=\"c1\"># ### Open using Jupyter Notebook. It holds the code and visualizations for developing the different classification algorithms (LibSVM, RBF SVM, Naive Bayes, Random Forest, Gradient Boosting) on the chosen subset of important features. </span>\n",
       "\n",
       "<span class=\"c1\"># In[27]:</span>\n",
       "\n",
       "<span class=\"kn\">import</span> <span class=\"nn\">pandas</span> <span class=\"kn\">as</span> <span class=\"nn\">pd</span>\n",
       "<span class=\"kn\">import</span> <span class=\"nn\">numpy</span> <span class=\"kn\">as</span> <span class=\"nn\">np</span>\n",
       "<span class=\"kn\">from</span> <span class=\"nn\">numpy</span> <span class=\"kn\">import</span> <span class=\"n\">sort</span>\n",
       "<span class=\"kn\">from</span> <span class=\"nn\">sklearn.metrics</span> <span class=\"kn\">import</span> <span class=\"n\">matthews_corrcoef</span><span class=\"p\">,</span> <span class=\"n\">accuracy_score</span><span class=\"p\">,</span><span class=\"n\">confusion_matrix</span>\n",
       "<span class=\"kn\">from</span> <span class=\"nn\">sklearn.feature_selection</span> <span class=\"kn\">import</span> <span class=\"n\">SelectFromModel</span>\n",
       "<span class=\"kn\">from</span> <span class=\"nn\">matplotlib</span> <span class=\"kn\">import</span> <span class=\"n\">pyplot</span>\n",
       "<span class=\"kn\">import</span> <span class=\"nn\">pylab</span> <span class=\"kn\">as</span> <span class=\"nn\">pl</span>\n",
       "<span class=\"kn\">from</span> <span class=\"nn\">sklearn</span> <span class=\"kn\">import</span> <span class=\"n\">svm</span>\n",
       "\n",
       "<span class=\"n\">get_ipython</span><span class=\"p\">()</span><span class=\"o\">.</span><span class=\"n\">magic</span><span class=\"p\">(</span><span class=\"s1\">u&#39;matplotlib inline&#39;</span><span class=\"p\">)</span>\n",
       "\n",
       "\n",
       "<span class=\"c1\"># In[4]:</span>\n",
       "\n",
       "<span class=\"n\">SEED</span> <span class=\"o\">=</span> <span class=\"mi\">1234</span>\n",
       "<span class=\"c1\">## Selected set of most important features</span>\n",
       "\n",
       "<span class=\"n\">featureSet</span><span class=\"o\">=</span><span class=\"p\">[</span><span class=\"s1\">&#39;L3_S31_F3846&#39;</span><span class=\"p\">,</span><span class=\"s1\">&#39;L1_S24_F1578&#39;</span><span class=\"p\">,</span><span class=\"s1\">&#39;L3_S33_F3857&#39;</span><span class=\"p\">,</span><span class=\"s1\">&#39;L1_S24_F1406&#39;</span><span class=\"p\">,</span><span class=\"s1\">&#39;L3_S29_F3348&#39;</span><span class=\"p\">,</span><span class=\"s1\">&#39;L3_S33_F3863&#39;</span><span class=\"p\">,</span>\n",
       "            <span class=\"s1\">&#39;L3_S29_F3427&#39;</span><span class=\"p\">,</span><span class=\"s1\">&#39;L3_S37_F3950&#39;</span><span class=\"p\">,</span><span class=\"s1\">&#39;L0_S9_F170&#39;</span><span class=\"p\">,</span> <span class=\"s1\">&#39;L3_S29_F3321&#39;</span><span class=\"p\">,</span><span class=\"s1\">&#39;L1_S24_F1346&#39;</span><span class=\"p\">,</span><span class=\"s1\">&#39;L3_S32_F3850&#39;</span><span class=\"p\">,</span>\n",
       "            <span class=\"s1\">&#39;L3_S30_F3514&#39;</span><span class=\"p\">,</span><span class=\"s1\">&#39;L1_S24_F1366&#39;</span><span class=\"p\">,</span><span class=\"s1\">&#39;L2_S26_F3036&#39;</span><span class=\"p\">]</span>\n",
       "\n",
       "<span class=\"n\">train_x</span> <span class=\"o\">=</span> <span class=\"n\">pd</span><span class=\"o\">.</span><span class=\"n\">read_csv</span><span class=\"p\">(</span><span class=\"s2\">&quot;../data/train_numeric.csv&quot;</span><span class=\"p\">,</span> <span class=\"n\">usecols</span><span class=\"o\">=</span><span class=\"n\">featureSet</span><span class=\"p\">)</span>\n",
       "<span class=\"n\">train_y</span> <span class=\"o\">=</span> <span class=\"n\">pd</span><span class=\"o\">.</span><span class=\"n\">read_csv</span><span class=\"p\">(</span><span class=\"s2\">&quot;../data/train_numeric.csv&quot;</span><span class=\"p\">,</span> <span class=\"n\">usecols</span><span class=\"o\">=</span><span class=\"p\">[</span><span class=\"s1\">&#39;Response&#39;</span><span class=\"p\">])</span>\n",
       "\n",
       "\n",
       "<span class=\"c1\"># In[5]:</span>\n",
       "\n",
       "<span class=\"n\">test_x</span> <span class=\"o\">=</span> <span class=\"n\">pd</span><span class=\"o\">.</span><span class=\"n\">read_csv</span><span class=\"p\">(</span><span class=\"s2\">&quot;../data/test_numeric.csv&quot;</span><span class=\"p\">,</span> <span class=\"n\">usecols</span><span class=\"o\">=</span><span class=\"n\">featureSet</span><span class=\"p\">)</span>\n",
       "\n",
       "\n",
       "<span class=\"c1\"># In[6]:</span>\n",
       "\n",
       "<span class=\"n\">train_x</span> <span class=\"o\">=</span> <span class=\"n\">train_x</span><span class=\"o\">.</span><span class=\"n\">fillna</span><span class=\"p\">(</span><span class=\"mi\">9999999</span><span class=\"p\">)</span>\n",
       "<span class=\"n\">msk</span> <span class=\"o\">=</span> <span class=\"n\">np</span><span class=\"o\">.</span><span class=\"n\">random</span><span class=\"o\">.</span><span class=\"n\">rand</span><span class=\"p\">(</span><span class=\"nb\">len</span><span class=\"p\">(</span><span class=\"n\">train_x</span><span class=\"p\">))</span> <span class=\"o\">&lt;</span> <span class=\"mf\">0.7</span>  <span class=\"c1\"># creating Training and validation set </span>\n",
       "\n",
       "\n",
       "<span class=\"n\">X_train</span> <span class=\"o\">=</span> <span class=\"n\">train_x</span><span class=\"p\">[</span><span class=\"n\">msk</span><span class=\"p\">]</span>\n",
       "\n",
       "<span class=\"n\">Y_train</span> <span class=\"o\">=</span> <span class=\"n\">train_y</span><span class=\"o\">.</span><span class=\"n\">Response</span><span class=\"o\">.</span><span class=\"n\">ravel</span><span class=\"p\">()[</span><span class=\"n\">msk</span><span class=\"p\">]</span>\n",
       "\n",
       "<span class=\"n\">X_valid</span> <span class=\"o\">=</span> <span class=\"n\">train_x</span><span class=\"p\">[</span><span class=\"o\">~</span><span class=\"n\">msk</span><span class=\"p\">]</span>\n",
       "<span class=\"n\">Y_valid</span> <span class=\"o\">=</span> <span class=\"n\">train_y</span><span class=\"o\">.</span><span class=\"n\">Response</span><span class=\"o\">.</span><span class=\"n\">ravel</span><span class=\"p\">()[</span><span class=\"o\">~</span><span class=\"n\">msk</span><span class=\"p\">]</span>\n",
       "\n",
       "\n",
       "<span class=\"c1\"># In[7]:</span>\n",
       "\n",
       "<span class=\"k\">def</span> <span class=\"nf\">showconfusionmatrix</span><span class=\"p\">(</span><span class=\"n\">cm</span><span class=\"p\">,</span> <span class=\"n\">typeModel</span><span class=\"p\">):</span>\n",
       "    <span class=\"n\">pl</span><span class=\"o\">.</span><span class=\"n\">matshow</span><span class=\"p\">(</span><span class=\"n\">cm</span><span class=\"p\">)</span>\n",
       "    <span class=\"n\">pl</span><span class=\"o\">.</span><span class=\"n\">title</span><span class=\"p\">(</span><span class=\"s1\">&#39;Confusion matrix for &#39;</span><span class=\"o\">+</span><span class=\"n\">typeModel</span><span class=\"p\">)</span>\n",
       "    <span class=\"n\">pl</span><span class=\"o\">.</span><span class=\"n\">colorbar</span><span class=\"p\">()</span>\n",
       "    <span class=\"n\">pl</span><span class=\"o\">.</span><span class=\"n\">show</span><span class=\"p\">()</span>\n",
       "\n",
       "\n",
       "<span class=\"c1\"># In[24]:</span>\n",
       "\n",
       "<span class=\"kn\">from</span> <span class=\"nn\">sklearn.ensemble</span> <span class=\"kn\">import</span> <span class=\"n\">RandomForestClassifier</span><span class=\"p\">,</span> <span class=\"n\">GradientBoostingClassifier</span>\n",
       "\n",
       "<span class=\"n\">C</span><span class=\"o\">=</span><span class=\"mi\">4</span>\n",
       "<span class=\"n\">lin_svc</span> <span class=\"o\">=</span> <span class=\"n\">svm</span><span class=\"o\">.</span><span class=\"n\">LinearSVC</span><span class=\"p\">(</span><span class=\"n\">C</span><span class=\"o\">=</span><span class=\"n\">C</span><span class=\"p\">)</span><span class=\"o\">.</span><span class=\"n\">fit</span><span class=\"p\">(</span><span class=\"n\">X_train</span><span class=\"p\">,</span> <span class=\"n\">Y_train</span><span class=\"p\">)</span>\n",
       "<span class=\"k\">print</span> <span class=\"s2\">&quot;LibSVM fitted&quot;</span>\n",
       "\n",
       "<span class=\"n\">title</span> <span class=\"o\">=</span> <span class=\"s1\">&#39;LinearSVC (linear kernel)&#39;</span>\n",
       "\n",
       "<span class=\"n\">predicted</span> <span class=\"o\">=</span> <span class=\"n\">lin_svc</span><span class=\"o\">.</span><span class=\"n\">predict</span><span class=\"p\">(</span><span class=\"n\">X_valid</span><span class=\"p\">)</span>\n",
       "<span class=\"n\">mcc</span><span class=\"o\">=</span> <span class=\"n\">matthews_corrcoef</span><span class=\"p\">(</span><span class=\"n\">Y_valid</span><span class=\"p\">,</span> <span class=\"n\">predicted</span><span class=\"p\">)</span>\n",
       "<span class=\"k\">print</span> <span class=\"s2\">&quot;MCC Score </span><span class=\"se\">\\t</span><span class=\"s2\"> +&quot;</span><span class=\"o\">+</span><span class=\"n\">title</span><span class=\"o\">+</span><span class=\"nb\">str</span><span class=\"p\">(</span><span class=\"n\">mcc</span><span class=\"p\">)</span>\n",
       "\n",
       "<span class=\"n\">cm</span> <span class=\"o\">=</span> <span class=\"n\">confusion_matrix</span><span class=\"p\">(</span><span class=\"n\">predicted</span><span class=\"p\">,</span> <span class=\"n\">Y_valid</span><span class=\"p\">)</span>\n",
       "<span class=\"n\">showconfusionmatrix</span><span class=\"p\">(</span><span class=\"n\">cm</span><span class=\"p\">,</span> <span class=\"n\">title</span><span class=\"p\">)</span>\n",
       "<span class=\"k\">print</span> <span class=\"s2\">&quot;Confusion Matrix&quot;</span>\n",
       "<span class=\"k\">print</span> <span class=\"p\">(</span><span class=\"n\">cm</span><span class=\"p\">)</span>\n",
       "\n",
       "\n",
       "<span class=\"c1\"># In[22]:</span>\n",
       "\n",
       "<span class=\"kn\">from</span> <span class=\"nn\">sklearn.ensemble</span> <span class=\"kn\">import</span> <span class=\"n\">RandomForestClassifier</span><span class=\"p\">,</span> <span class=\"n\">GradientBoostingClassifier</span>\n",
       "\n",
       "<span class=\"n\">C</span><span class=\"o\">=</span><span class=\"mi\">4</span>\n",
       "<span class=\"n\">rbf_svc</span> <span class=\"o\">=</span> <span class=\"n\">svm</span><span class=\"o\">.</span><span class=\"n\">SVC</span><span class=\"p\">(</span><span class=\"n\">kernel</span><span class=\"o\">=</span><span class=\"s1\">&#39;rbf&#39;</span><span class=\"p\">,</span> <span class=\"n\">gamma</span><span class=\"o\">=</span><span class=\"mf\">0.7</span><span class=\"p\">,</span> <span class=\"n\">C</span><span class=\"o\">=</span><span class=\"n\">C</span><span class=\"p\">)</span><span class=\"o\">.</span><span class=\"n\">fit</span><span class=\"p\">(</span><span class=\"n\">X_train</span><span class=\"p\">,</span> <span class=\"n\">Y_train</span><span class=\"p\">)</span>\n",
       "<span class=\"k\">print</span> <span class=\"s2\">&quot;RBF fitted&quot;</span>\n",
       "\n",
       "\n",
       "<span class=\"n\">title</span> <span class=\"o\">=</span> <span class=\"s1\">&#39;SVC with RBF kernel&#39;</span>\n",
       "\n",
       "<span class=\"n\">predicted</span> <span class=\"o\">=</span> <span class=\"n\">rbf_svc</span><span class=\"o\">.</span><span class=\"n\">predict</span><span class=\"p\">(</span><span class=\"n\">X_valid</span><span class=\"p\">)</span>\n",
       "<span class=\"n\">mcc</span><span class=\"o\">=</span> <span class=\"n\">matthews_corrcoef</span><span class=\"p\">(</span><span class=\"n\">Y_valid</span><span class=\"p\">,</span> <span class=\"n\">predicted</span><span class=\"p\">)</span>\n",
       "<span class=\"k\">print</span> <span class=\"s2\">&quot;MCC Score </span><span class=\"se\">\\t</span><span class=\"s2\"> +&quot;</span><span class=\"o\">+</span><span class=\"n\">title</span><span class=\"o\">+</span><span class=\"nb\">str</span><span class=\"p\">(</span><span class=\"n\">mcc</span><span class=\"p\">)</span>\n",
       "\n",
       "<span class=\"n\">cm</span> <span class=\"o\">=</span> <span class=\"n\">confusion_matrix</span><span class=\"p\">(</span><span class=\"n\">predicted</span><span class=\"p\">,</span> <span class=\"n\">Y_valid</span><span class=\"p\">)</span>\n",
       "<span class=\"n\">showconfusionmatrix</span><span class=\"p\">(</span><span class=\"n\">cm</span><span class=\"p\">,</span> <span class=\"n\">title</span><span class=\"p\">)</span>\n",
       "<span class=\"k\">print</span> <span class=\"s2\">&quot;Confusion Matrix&quot;</span>\n",
       "<span class=\"k\">print</span> <span class=\"p\">(</span><span class=\"n\">cm</span><span class=\"p\">)</span>\n",
       "\n",
       "\n",
       "<span class=\"c1\"># In[10]:</span>\n",
       "\n",
       "\n",
       "<span class=\"kn\">from</span> <span class=\"nn\">sklearn.naive_bayes</span> <span class=\"kn\">import</span> <span class=\"n\">GaussianNB</span>\n",
       "\n",
       "<span class=\"n\">gnb</span> <span class=\"o\">=</span> <span class=\"n\">GaussianNB</span><span class=\"p\">()</span>\n",
       "\n",
       "<span class=\"n\">clf</span> <span class=\"o\">=</span> <span class=\"n\">gnb</span><span class=\"o\">.</span><span class=\"n\">fit</span><span class=\"p\">(</span><span class=\"n\">X_train</span><span class=\"p\">,</span><span class=\"n\">Y_train</span><span class=\"p\">)</span>\n",
       "<span class=\"k\">print</span> <span class=\"s2\">&quot;Naive Bayes Fitted&quot;</span>\n",
       "\n",
       "\n",
       "<span class=\"n\">title</span> <span class=\"o\">=</span> <span class=\"s1\">&#39;Naive Bayes&#39;</span>\n",
       "\n",
       "<span class=\"n\">predicted</span> <span class=\"o\">=</span> <span class=\"n\">clf</span><span class=\"o\">.</span><span class=\"n\">predict</span><span class=\"p\">(</span><span class=\"n\">X_valid</span><span class=\"p\">)</span>\n",
       "\n",
       "\n",
       "<span class=\"n\">mcc</span><span class=\"o\">=</span> <span class=\"n\">matthews_corrcoef</span><span class=\"p\">(</span><span class=\"n\">Y_valid</span><span class=\"p\">,</span> <span class=\"n\">predicted</span><span class=\"p\">)</span>\n",
       "<span class=\"k\">print</span> <span class=\"s2\">&quot;MCC Score </span><span class=\"se\">\\t</span><span class=\"s2\"> +&quot;</span><span class=\"o\">+</span><span class=\"n\">title</span><span class=\"o\">+</span><span class=\"nb\">str</span><span class=\"p\">(</span><span class=\"n\">mcc</span><span class=\"p\">)</span>\n",
       "\n",
       "<span class=\"n\">cm</span> <span class=\"o\">=</span> <span class=\"n\">confusion_matrix</span><span class=\"p\">(</span><span class=\"n\">predicted</span><span class=\"p\">,</span> <span class=\"n\">Y_valid</span><span class=\"p\">)</span>\n",
       "<span class=\"n\">showconfusionmatrix</span><span class=\"p\">(</span><span class=\"n\">cm</span><span class=\"p\">,</span> <span class=\"n\">title</span><span class=\"p\">)</span>\n",
       "<span class=\"k\">print</span> <span class=\"s2\">&quot;Confusion Matrix&quot;</span>\n",
       "<span class=\"k\">print</span> <span class=\"p\">(</span><span class=\"n\">cm</span><span class=\"p\">)</span>\n",
       "\n",
       "\n",
       "<span class=\"c1\"># In[21]:</span>\n",
       "\n",
       "<span class=\"kn\">from</span> <span class=\"nn\">sklearn.ensemble</span> <span class=\"kn\">import</span> <span class=\"n\">RandomForestClassifier</span><span class=\"p\">,</span> <span class=\"n\">GradientBoostingClassifier</span>\n",
       "<span class=\"kn\">from</span> <span class=\"nn\">sklearn.cross_validation</span> <span class=\"kn\">import</span> <span class=\"n\">cross_val_score</span>\n",
       "<span class=\"kn\">from</span> <span class=\"nn\">sklearn.model_selection</span> <span class=\"kn\">import</span> <span class=\"n\">GridSearchCV</span>\n",
       "\n",
       "\n",
       "<span class=\"c1\"># In[23]:</span>\n",
       "\n",
       "<span class=\"n\">rf</span> <span class=\"o\">=</span> <span class=\"n\">RandomForestClassifier</span><span class=\"p\">(</span><span class=\"n\">n_estimators</span><span class=\"o\">=</span><span class=\"mi\">20</span><span class=\"p\">,</span> <span class=\"n\">n_jobs</span><span class=\"o\">=</span><span class=\"mi\">2</span><span class=\"p\">)</span>\n",
       "<span class=\"n\">param_grid</span> <span class=\"o\">=</span> <span class=\"p\">{</span>\n",
       "                 <span class=\"s1\">&#39;n_estimators&#39;</span><span class=\"p\">:</span> <span class=\"p\">[</span><span class=\"mi\">5</span><span class=\"p\">,</span> <span class=\"mi\">10</span><span class=\"p\">,</span> <span class=\"mi\">15</span><span class=\"p\">,</span> <span class=\"mi\">20</span><span class=\"p\">],</span>\n",
       "                 <span class=\"s1\">&#39;max_depth&#39;</span><span class=\"p\">:</span> <span class=\"p\">[</span><span class=\"mi\">2</span><span class=\"p\">,</span> <span class=\"mi\">5</span><span class=\"p\">,</span> <span class=\"mi\">7</span><span class=\"p\">,</span> <span class=\"mi\">9</span><span class=\"p\">]</span>\n",
       "             <span class=\"p\">}</span>\n",
       "\n",
       "\n",
       "<span class=\"c1\"># In[24]:</span>\n",
       "\n",
       "<span class=\"n\">grid_rf</span> <span class=\"o\">=</span> <span class=\"n\">GridSearchCV</span><span class=\"p\">(</span><span class=\"n\">rf</span><span class=\"p\">,</span> <span class=\"n\">param_grid</span><span class=\"p\">,</span> <span class=\"n\">cv</span><span class=\"o\">=</span><span class=\"mi\">10</span><span class=\"p\">)</span>\n",
       "<span class=\"n\">rf_model</span><span class=\"o\">=</span><span class=\"n\">grid_rf</span><span class=\"o\">.</span><span class=\"n\">fit</span><span class=\"p\">(</span><span class=\"n\">X_train</span><span class=\"p\">,</span> <span class=\"n\">Y_train</span><span class=\"p\">)</span>\n",
       "\n",
       "\n",
       "<span class=\"c1\"># In[30]:</span>\n",
       "\n",
       "<span class=\"k\">print</span> <span class=\"s2\">&quot;RF fitted&quot;</span>\n",
       "\n",
       "<span class=\"n\">titles</span> <span class=\"o\">=</span> <span class=\"s1\">&#39;Random Forest&#39;</span>\n",
       "\n",
       "<span class=\"n\">predicted</span> <span class=\"o\">=</span> <span class=\"n\">rf_model</span><span class=\"o\">.</span><span class=\"n\">predict</span><span class=\"p\">(</span><span class=\"n\">X_valid</span><span class=\"p\">)</span>\n",
       "<span class=\"n\">mcc</span><span class=\"o\">=</span> <span class=\"n\">matthews_corrcoef</span><span class=\"p\">(</span><span class=\"n\">Y_valid</span><span class=\"p\">,</span> <span class=\"n\">predicted</span><span class=\"p\">)</span>\n",
       "<span class=\"k\">print</span> <span class=\"s2\">&quot;MCC Score </span><span class=\"se\">\\t</span><span class=\"s2\"> +&quot;</span><span class=\"o\">+</span><span class=\"n\">titles</span><span class=\"p\">[</span><span class=\"mi\">0</span><span class=\"p\">]</span><span class=\"o\">+</span><span class=\"nb\">str</span><span class=\"p\">(</span><span class=\"n\">mcc</span><span class=\"p\">)</span>\n",
       "\n",
       "<span class=\"n\">cm</span> <span class=\"o\">=</span> <span class=\"n\">confusion_matrix</span><span class=\"p\">(</span><span class=\"n\">predicted</span><span class=\"p\">,</span> <span class=\"n\">Y_valid</span><span class=\"p\">)</span>\n",
       "<span class=\"n\">showconfusionmatrix</span><span class=\"p\">(</span><span class=\"n\">cm</span><span class=\"p\">,</span> <span class=\"n\">titles</span><span class=\"p\">[</span><span class=\"mi\">0</span><span class=\"p\">])</span>\n",
       "\n",
       "\n",
       "<span class=\"c1\"># In[31]:</span>\n",
       "\n",
       "<span class=\"n\">gb</span> <span class=\"o\">=</span> <span class=\"n\">GradientBoostingClassifier</span><span class=\"p\">(</span><span class=\"n\">learning_rate</span><span class=\"o\">=</span><span class=\"mf\">0.5</span><span class=\"p\">)</span>\n",
       "<span class=\"n\">param_grid</span> <span class=\"o\">=</span> <span class=\"p\">{</span>\n",
       "                 <span class=\"s1\">&#39;n_estimators&#39;</span><span class=\"p\">:</span> <span class=\"p\">[</span><span class=\"mi\">5</span><span class=\"p\">,</span> <span class=\"mi\">10</span><span class=\"p\">,</span> <span class=\"mi\">15</span><span class=\"p\">,</span> <span class=\"mi\">20</span><span class=\"p\">],</span>\n",
       "                 <span class=\"s1\">&#39;max_depth&#39;</span><span class=\"p\">:</span> <span class=\"p\">[</span><span class=\"mi\">2</span><span class=\"p\">,</span> <span class=\"mi\">5</span><span class=\"p\">,</span> <span class=\"mi\">7</span><span class=\"p\">,</span> <span class=\"mi\">9</span><span class=\"p\">]</span>\n",
       "             <span class=\"p\">}</span>\n",
       "\n",
       "\n",
       "<span class=\"c1\"># In[32]:</span>\n",
       "\n",
       "<span class=\"n\">grid_gb</span> <span class=\"o\">=</span> <span class=\"n\">GridSearchCV</span><span class=\"p\">(</span><span class=\"n\">gb</span><span class=\"p\">,</span> <span class=\"n\">param_grid</span><span class=\"p\">,</span> <span class=\"n\">cv</span><span class=\"o\">=</span><span class=\"mi\">10</span><span class=\"p\">)</span>\n",
       "<span class=\"n\">gb_model</span><span class=\"o\">=</span><span class=\"n\">grid_gb</span><span class=\"o\">.</span><span class=\"n\">fit</span><span class=\"p\">(</span><span class=\"n\">X_train</span><span class=\"p\">,</span> <span class=\"n\">Y_train</span><span class=\"p\">)</span>\n",
       "\n",
       "\n",
       "<span class=\"c1\"># In[36]:</span>\n",
       "\n",
       "<span class=\"k\">print</span> <span class=\"s2\">&quot;GB fitted&quot;</span>\n",
       "\n",
       "<span class=\"n\">title</span> <span class=\"o\">=</span> <span class=\"s1\">&#39;Gradient Boosting&#39;</span>\n",
       "\n",
       "<span class=\"n\">predicted</span> <span class=\"o\">=</span> <span class=\"n\">gb_model</span><span class=\"o\">.</span><span class=\"n\">predict</span><span class=\"p\">(</span><span class=\"n\">X_valid</span><span class=\"p\">)</span>\n",
       "<span class=\"n\">mcc</span><span class=\"o\">=</span> <span class=\"n\">matthews_corrcoef</span><span class=\"p\">(</span><span class=\"n\">Y_valid</span><span class=\"p\">,</span> <span class=\"n\">predicted</span><span class=\"p\">)</span>\n",
       "<span class=\"k\">print</span> <span class=\"s2\">&quot;MCC Score </span><span class=\"se\">\\t</span><span class=\"s2\"> +&quot;</span><span class=\"o\">+</span><span class=\"n\">title</span><span class=\"o\">+</span><span class=\"nb\">str</span><span class=\"p\">(</span><span class=\"n\">mcc</span><span class=\"p\">)</span>\n",
       "\n",
       "<span class=\"n\">cm</span> <span class=\"o\">=</span> <span class=\"n\">confusion_matrix</span><span class=\"p\">(</span><span class=\"n\">predicted</span><span class=\"p\">,</span> <span class=\"n\">Y_valid</span><span class=\"p\">)</span>\n",
       "<span class=\"n\">showconfusionmatrix</span><span class=\"p\">(</span><span class=\"n\">cm</span><span class=\"p\">,</span> <span class=\"n\">title</span><span class=\"p\">)</span>\n",
       "</pre></div>\n"
      ],
      "text/plain": [
       "<IPython.core.display.HTML object>"
      ]
     },
     "metadata": {},
     "output_type": "display_data"
    }
   ],
   "source": [
    "# Verify the occurence. We indeed have both!\n",
    "pprint_ipynb(rf_and_svc[0])"
   ]
  },
  {
   "cell_type": "markdown",
   "metadata": {},
   "source": [
    "## Part 3: Repos with top imports"
   ]
  },
  {
   "cell_type": "markdown",
   "metadata": {},
   "source": [
    "One common question Python library writers (or even users) are interested in is: who is using this library? Odyssey supports querying repos with top imports of your package-in-interest. In one line, you can get the answer!"
   ]
  },
  {
   "cell_type": "markdown",
   "metadata": {},
   "source": [
    "*Sidenote: Some profiling on parso.parse. It's actually pretty slow!*"
   ]
  },
  {
   "cell_type": "code",
   "execution_count": 17,
   "metadata": {
    "collapsed": false,
    "scrolled": false
   },
   "outputs": [
    {
     "name": "stdout",
     "output_type": "stream",
     "text": [
      "         112786 function calls (109102 primitive calls) in 0.285 seconds\n",
      "\n",
      "   Ordered by: standard name\n",
      "\n",
      "   ncalls  tottime  percall  cumtime  percall filename:lineno(function)\n",
      "        1    0.000    0.000    0.000    0.000 <string>:1(<module>)\n",
      "     1763    0.001    0.000    0.003    0.000 <string>:12(__new__)\n",
      "        1    0.000    0.000    0.285    0.285 __init__.py:49(parse)\n",
      "        1    0.000    0.000    0.000    0.000 _bootlocale.py:23(getpreferredencoding)\n",
      "        1    0.000    0.000    0.000    0.000 codecs.py:259(__init__)\n",
      "        1    0.000    0.000    0.000    0.000 codecs.py:308(__init__)\n",
      "        1    0.000    0.000    0.000    0.000 codecs.py:318(decode)\n",
      "        1    0.000    0.000    0.000    0.000 grammar.py:154(_get_token_namespace)\n",
      "        1    0.000    0.000    0.215    0.215 grammar.py:204(__init__)\n",
      "        1    0.000    0.000    0.000    0.000 grammar.py:213(_tokenize_lines)\n",
      "        1    0.000    0.000    0.217    0.217 grammar.py:249(load_grammar)\n",
      "        1    0.000    0.000    0.217    0.217 grammar.py:256(load_grammar)\n",
      "        1    0.001    0.001    0.215    0.215 grammar.py:31(__init__)\n",
      "        1    0.000    0.000    0.068    0.068 grammar.py:41(parse)\n",
      "        1    0.000    0.000    0.000    0.000 grammar.py:76(__init__)\n",
      "        1    0.000    0.000    0.068    0.068 grammar.py:79(_parse)\n",
      "        1    0.001    0.001    0.068    0.068 parse.py:126(parse)\n",
      "  623/617    0.016    0.000    0.039    0.000 parse.py:138(add_token)\n",
      "      617    0.002    0.000    0.005    0.000 parse.py:191(_shift)\n",
      "     3398    0.004    0.000    0.004    0.000 parse.py:198(_push)\n",
      "     3385    0.007    0.000    0.012    0.000 parse.py:205(_pop)\n",
      "        6    0.000    0.000    0.000    0.000 parse.py:37(get_tos_nodes)\n",
      "      623    0.001    0.000    0.001    0.000 parse.py:42(token_to_ilabel)\n",
      "        1    0.000    0.000    0.000    0.000 parse.py:87(__init__)\n",
      "      617    0.002    0.000    0.003    0.000 parser.py:117(convert_leaf)\n",
      "        6    0.000    0.000    0.001    0.000 parser.py:135(error_recovery)\n",
      "       62    0.000    0.000    0.000    0.000 parser.py:137(get_symbol_and_nodes)\n",
      "        6    0.000    0.000    0.000    0.000 parser.py:194(current_suite)\n",
      "        3    0.000    0.000    0.000    0.000 parser.py:227(<listcomp>)\n",
      "        6    0.000    0.000    0.000    0.000 parser.py:231(_stack_removal)\n",
      "      618    0.001    0.000    0.028    0.000 parser.py:247(_recovery_tokenize)\n",
      "        1    0.000    0.000    0.000    0.000 parser.py:41(__init__)\n",
      "        1    0.000    0.000    0.068    0.068 parser.py:46(parse)\n",
      "        1    0.000    0.000    0.000    0.000 parser.py:53(__init__)\n",
      "        1    0.000    0.000    0.068    0.068 parser.py:70(parse)\n",
      "      298    0.001    0.000    0.002    0.000 parser.py:90(convert_node)\n",
      "        1    0.000    0.000    0.001    0.001 pgen.py:108(_addfirstsets)\n",
      "    85/42    0.000    0.000    0.000    0.000 pgen.py:116(_calcfirst)\n",
      "        1    0.000    0.000    0.032    0.032 pgen.py:146(_parse)\n",
      "        1    0.000    0.000    0.182    0.182 pgen.py:15(__init__)\n",
      "       85    0.003    0.000    0.007    0.000 pgen.py:170(_make_dfa)\n",
      "       85    0.000    0.000    0.000    0.000 pgen.py:178(closure)\n",
      " 1940/700    0.002    0.000    0.002    0.000 pgen.py:183(addclosure)\n",
      "       85    0.003    0.000    0.008    0.000 pgen.py:232(_simplify_dfa)\n",
      "   225/85    0.001    0.000    0.014    0.000 pgen.py:253(_parse_rhs)\n",
      "        1    0.004    0.004    0.032    0.032 pgen.py:27(make_grammar)\n",
      "  335/121    0.001    0.000    0.013    0.000 pgen.py:270(_parse_alt)\n",
      "  599/239    0.001    0.000    0.013    0.000 pgen.py:280(_parse_item)\n",
      "  531/263    0.001    0.000    0.011    0.000 pgen.py:300(_parse_atom)\n",
      "      395    0.000    0.000    0.004    0.000 pgen.py:317(_expect)\n",
      "     1146    0.001    0.000    0.160    0.000 pgen.py:325(_gettoken)\n",
      "     1024    0.001    0.000    0.001    0.000 pgen.py:343(__init__)\n",
      "     1158    0.001    0.000    0.001    0.000 pgen.py:346(addarc)\n",
      "      522    0.001    0.000    0.001    0.000 pgen.py:353(__init__)\n",
      "      551    0.000    0.000    0.001    0.000 pgen.py:361(addarc)\n",
      "     1313    0.001    0.000    0.001    0.000 pgen.py:367(unifystate)\n",
      "     5631    0.006    0.000    0.007    0.000 pgen.py:372(__eq__)\n",
      "        1    0.000    0.000    0.214    0.214 pgen.py:389(generate_grammar)\n",
      "       85    0.001    0.000    0.014    0.000 pgen.py:52(_make_first)\n",
      "     1183    0.004    0.000    0.021    0.000 pgen.py:61(_make_label)\n",
      "        1    0.000    0.000    0.000    0.000 posixpath.py:145(dirname)\n",
      "        2    0.000    0.000    0.000    0.000 posixpath.py:39(_get_sep)\n",
      "        1    0.000    0.000    0.000    0.000 posixpath.py:71(join)\n",
      "        2    0.000    0.000    0.001    0.000 re.py:160(match)\n",
      "      162    0.000    0.000    0.166    0.001 re.py:222(compile)\n",
      "      164    0.001    0.000    0.167    0.001 re.py:278(_compile)\n",
      "       98    0.000    0.000    0.006    0.000 sre_compile.py:221(_compile_charset)\n",
      "       98    0.001    0.000    0.005    0.000 sre_compile.py:248(_optimize_charset)\n",
      "       18    0.000    0.000    0.000    0.000 sre_compile.py:374(_mk_bitmap)\n",
      "       18    0.000    0.000    0.000    0.000 sre_compile.py:376(<listcomp>)\n",
      "      108    0.000    0.000    0.001    0.000 sre_compile.py:386(_simple)\n",
      "        3    0.000    0.000    0.000    0.000 sre_compile.py:412(_compile_info)\n",
      "        6    0.000    0.000    0.000    0.000 sre_compile.py:513(isstring)\n",
      "        3    0.000    0.000    0.069    0.023 sre_compile.py:516(_code)\n",
      "        3    0.000    0.000    0.166    0.055 sre_compile.py:531(compile)\n",
      "    447/3    0.034    0.000    0.069    0.023 sre_compile.py:64(_compile)\n",
      "      447    0.001    0.000    0.001    0.000 sre_parse.py:105(__init__)\n",
      "      452    0.000    0.000    0.000    0.000 sre_parse.py:153(__len__)\n",
      "     1630    0.026    0.000    0.028    0.000 sre_parse.py:157(__getitem__)\n",
      "      108    0.000    0.000    0.000    0.000 sre_parse.py:161(__setitem__)\n",
      "      598    0.000    0.000    0.001    0.000 sre_parse.py:165(append)\n",
      "  561/117    0.062    0.000    0.065    0.001 sre_parse.py:167(getwidth)\n",
      "        3    0.000    0.000    0.000    0.000 sre_parse.py:217(__init__)\n",
      "     1495    0.002    0.000    0.002    0.000 sre_parse.py:226(__next)\n",
      "      839    0.000    0.000    0.001    0.000 sre_parse.py:242(match)\n",
      "     1067    0.001    0.000    0.002    0.000 sre_parse.py:247(get)\n",
      "      356    0.000    0.000    0.000    0.000 sre_parse.py:276(tell)\n",
      "       26    0.000    0.000    0.000    0.000 sre_parse.py:312(_class_escape)\n",
      "       53    0.000    0.000    0.000    0.000 sre_parse.py:362(_escape)\n",
      "     79/3    0.002    0.000    0.083    0.028 sre_parse.py:429(_parse_sub)\n",
      "    297/3    0.009    0.000    0.083    0.028 sre_parse.py:491(_parse)\n",
      "        3    0.000    0.000    0.000    0.000 sre_parse.py:70(__init__)\n",
      "       18    0.000    0.000    0.000    0.000 sre_parse.py:75(groups)\n",
      "        6    0.000    0.000    0.000    0.000 sre_parse.py:78(opengroup)\n",
      "        3    0.014    0.005    0.014    0.005 sre_parse.py:797(fix_flags)\n",
      "        3    0.000    0.000    0.097    0.032 sre_parse.py:819(parse)\n",
      "        6    0.000    0.000    0.064    0.011 sre_parse.py:90(closegroup)\n",
      "      448    0.000    0.000    0.000    0.000 token.py:95(generate_token_id)\n",
      "        2    0.000    0.000    0.168    0.084 tokenize.py:105(_create_token_collection)\n",
      "        1    0.000    0.000    0.000    0.000 tokenize.py:229(tokenize)\n",
      "     1765    0.008    0.000    0.185    0.000 tokenize.py:235(tokenize_lines)\n",
      "       34    0.000    0.000    0.000    0.000 tokenize.py:45(group)\n",
      "        2    0.000    0.000    0.000    0.000 tokenize.py:59(maybe)\n",
      "        2    0.000    0.000    0.000    0.000 tokenize.py:64(_all_string_prefixes)\n",
      "       51    0.000    0.000    0.000    0.000 tokenize.py:65(different_case_versions)\n",
      "       13    0.000    0.000    0.000    0.000 tokenize.py:66(<listcomp>)\n",
      "      162    0.000    0.000    0.166    0.001 tokenize.py:92(_compile)\n",
      "        2    0.000    0.000    0.168    0.084 tokenize.py:96(_get_token_collection)\n",
      "       15    0.000    0.000    0.000    0.000 tree.py:1037(__init__)\n",
      "      617    0.001    0.000    0.001    0.000 tree.py:169(__init__)\n",
      "      617    0.000    0.000    0.000    0.000 tree.py:189(start_pos)\n",
      "        6    0.000    0.000    0.000    0.000 tree.py:203(get_last_leaf)\n",
      "      319    0.000    0.000    0.000    0.000 tree.py:246(__init__)\n",
      "        8    0.000    0.000    0.000    0.000 tree.py:271(__eq__)\n",
      "        8    0.000    0.000    0.000    0.000 tree.py:307(__init__)\n",
      "      239    0.001    0.000    0.001    0.000 tree.py:324(__init__)\n",
      "        1    0.000    0.000    0.000    0.000 tree.py:364(__init__)\n",
      "        7    0.000    0.000    0.000    0.000 tree.py:474(_create_params)\n",
      "       15    0.000    0.000    0.000    0.000 tree.py:485(check_python2_nested_param)\n",
      "        6    0.000    0.000    0.000    0.000 tree.py:544(__init__)\n",
      "        1    0.000    0.000    0.000    0.000 tree.py:633(__init__)\n",
      "        2    0.000    0.000    0.001    0.000 utils.py:102(_parse_version)\n",
      "        2    0.000    0.000    0.000    0.000 utils.py:12(split_lines)\n",
      "        2    0.000    0.000    0.001    0.000 utils.py:145(parse_version_string)\n",
      "        1    0.000    0.000    0.000    0.000 utils.py:51(python_bytes_to_unicode)\n",
      "     1767    0.002    0.000    0.002    0.000 {built-in method __new__ of type object at 0x1001d3e10}\n",
      "        1    0.000    0.000    0.000    0.000 {built-in method _codecs.utf_8_decode}\n",
      "        1    0.000    0.000    0.000    0.000 {built-in method _hashlib.openssl_sha256}\n",
      "        1    0.000    0.000    0.000    0.000 {built-in method _locale.nl_langinfo}\n",
      "        3    0.000    0.000    0.000    0.000 {built-in method _sre.compile}\n",
      "      832    0.016    0.000    0.016    0.000 {built-in method builtins.eval}\n",
      "        1    0.000    0.000    0.285    0.285 {built-in method builtins.exec}\n",
      "      149    0.000    0.000    0.000    0.000 {built-in method builtins.getattr}\n",
      "    13833    0.004    0.000    0.004    0.000 {built-in method builtins.isinstance}\n",
      "      522    0.000    0.000    0.000    0.000 {built-in method builtins.iter}\n",
      "14467/14312    0.003    0.000    0.003    0.000 {built-in method builtins.len}\n",
      "      260    0.000    0.000    0.000    0.000 {built-in method builtins.max}\n",
      "     1155    0.003    0.000    0.003    0.000 {built-in method builtins.min}\n",
      "     1668    0.000    0.000    0.159    0.000 {built-in method builtins.next}\n",
      "      565    0.000    0.000    0.000    0.000 {built-in method builtins.ord}\n",
      "        1    0.000    0.000    0.000    0.000 {built-in method io.open}\n",
      "      160    0.000    0.000    0.000    0.000 {method 'add' of 'set' objects}\n",
      "    14679    0.004    0.000    0.004    0.000 {method 'append' of 'list' objects}\n",
      "        1    0.000    0.000    0.000    0.000 {method 'disable' of '_lsprof.Profiler' objects}\n",
      "        1    0.000    0.000    0.000    0.000 {method 'encode' of 'str' objects}\n",
      "      320    0.000    0.000    0.000    0.000 {method 'endswith' of 'str' objects}\n",
      "       20    0.000    0.000    0.000    0.000 {method 'extend' of 'list' objects}\n",
      "      376    0.004    0.000    0.004    0.000 {method 'find' of 'bytearray' objects}\n",
      "     1374    0.001    0.000    0.001    0.000 {method 'get' of 'dict' objects}\n",
      "     3758    0.001    0.000    0.001    0.000 {method 'group' of '_sre.SRE_Match' objects}\n",
      "        1    0.000    0.000    0.000    0.000 {method 'hexdigest' of '_hashlib.HASH' objects}\n",
      "      595    0.002    0.000    0.004    0.000 {method 'index' of 'list' objects}\n",
      "        3    0.000    0.000    0.000    0.000 {method 'insert' of 'list' objects}\n",
      "     2015    0.000    0.000    0.000    0.000 {method 'isalpha' of 'str' objects}\n",
      "     3652    0.000    0.000    0.000    0.000 {method 'items' of 'dict' objects}\n",
      "       72    0.000    0.000    0.000    0.000 {method 'join' of 'str' objects}\n",
      "        2    0.000    0.000    0.000    0.000 {method 'keys' of 'dict' objects}\n",
      "     1879    0.004    0.000    0.004    0.000 {method 'match' of '_sre.SRE_Pattern' objects}\n",
      "       35    0.000    0.000    0.000    0.000 {method 'pop' of 'dict' objects}\n",
      "     3421    0.001    0.000    0.001    0.000 {method 'pop' of 'list' objects}\n",
      "        1    0.000    0.000    0.000    0.000 {method 'read' of '_io.TextIOWrapper' objects}\n",
      "        1    0.000    0.000    0.000    0.000 {method 'remove' of 'list' objects}\n",
      "        1    0.000    0.000    0.000    0.000 {method 'rfind' of 'str' objects}\n",
      "        1    0.000    0.000    0.000    0.000 {method 'rstrip' of 'str' objects}\n",
      "      616    0.000    0.000    0.000    0.000 {method 'setdefault' of 'dict' objects}\n",
      "        2    0.000    0.000    0.000    0.000 {method 'sort' of 'list' objects}\n",
      "     1877    0.001    0.000    0.001    0.000 {method 'span' of '_sre.SRE_Match' objects}\n",
      "        2    0.000    0.000    0.000    0.000 {method 'splitlines' of 'str' objects}\n",
      "        3    0.000    0.000    0.000    0.000 {method 'startswith' of 'str' objects}\n",
      "       18    0.000    0.000    0.000    0.000 {method 'translate' of 'bytearray' objects}\n",
      "       75    0.000    0.000    0.000    0.000 {method 'update' of 'dict' objects}\n",
      "       13    0.000    0.000    0.000    0.000 {method 'update' of 'set' objects}\n",
      "       19    0.000    0.000    0.000    0.000 {method 'upper' of 'str' objects}\n",
      "\n",
      "\n"
     ]
    }
   ],
   "source": [
    "import cProfile\n",
    "import parso\n",
    "cProfile.run('parso.parse(data[0].code)')"
   ]
  },
  {
   "cell_type": "code",
   "execution_count": 18,
   "metadata": {
    "collapsed": false
   },
   "outputs": [],
   "source": [
    "gp_sklearn_limited = GithubPython(package=\"sklearn\", exclude_forks=[\"scikit-learn\"], limit=100)"
   ]
  },
  {
   "cell_type": "code",
   "execution_count": 19,
   "metadata": {
    "collapsed": false
   },
   "outputs": [
    {
     "name": "stdout",
     "output_type": "stream",
     "text": [
      "0\n"
     ]
    }
   ],
   "source": [
    "top20_imports = gp_sklearn_limited.get_top_import_repo() # top imports by file count"
   ]
  },
  {
   "cell_type": "code",
   "execution_count": 20,
   "metadata": {
    "collapsed": false
   },
   "outputs": [
    {
     "name": "stdout",
     "output_type": "stream",
     "text": [
      "[('dallascard/guac', 3), ('automl/paramsklearn', 2), ('ngoix/OCRF', 2), ('cocoaaa/ml_gesture', 2), ('wjfwzzc/Kaggle_Script', 2), ('JoostVisser/ml-assignment2', 1), ('fukatani/PreTrainingChain', 1), ('Mustyy/Udacity-DeepLearning', 1), ('rmonat/princess-or-frog', 1), ('reidbradley/prospecting', 1), ('gpiatkovska/Machine-Learning-in-Python', 1), ('neogi/machine-learning', 1), ('dotsdl/msmbuilder', 1), ('all-umass/metric-learn', 1), ('jmorton/yatsm', 1), ('100star/h2o', 1), ('CharLLCH/Word2Vec', 1), ('haradatm/nlp', 1), ('GbalsaC/bitnamiP', 1), ('MIREL-UNC/wikipedia-ner', 1), ('NicovincX2/Python-3.5', 1), ('antoinecarme/pyaf', 1), ('MartinThoma/algorithms', 1), ('jashwanth9/Expert-recommendation-system', 1), ('rcln/tag.suggestion', 1), ('adazey/Muzez', 1), ('dav-stott/phd-thesis', 1), ('afruizc/microsoft_malware_challenge', 1), ('Edouard360/text-mining-challenge', 1), ('LaRiffle/axa_challenge', 1), ('antlr/codebuff', 1), ('vibhutiM/Production-Failures', 1), ('AppleFairy/machinelearning', 1), ('nadbor-aimia/ds-tools', 1), ('xiaohan2012/chowmein', 1), ('SergioGonzalezSanz/conformal_predictors', 1), ('boscotsang/BayesDigitClassify', 1), ('flennerhag/mlens_dev', 1), ('maxmya/CollageProjects', 1), ('probml/pyprobml', 1), ('Chiroptera/QCThesis', 1), ('glemaitre/imbalanced-learn', 1), ('get9/kaggle_scripts', 1), ('edublancas/sklearn-evaluation', 1), ('elingg/tensorflow', 1), ('jaeilepp/eggie', 1), ('sureshbvn/nlpProject', 1), ('jatraug/Dataclass', 1), ('k8si/691CL_project', 1), ('chaluemwut/fbserver', 1), ('exark/puffsAnalysis', 1), ('PiotrZakrzewski/steamweb', 1), ('tech-team/sentiment', 1), ('ejulio/blog-posts', 1), ('int19h/PTVS', 1), ('joegomes/deepchem', 1), ('LichAmnesia/MBSCM', 1), ('gingi99/research_dr', 1), ('jniediek/mne-python', 1), ('manchester9/intro-to-nltk', 1), ('gojomo/gensim', 1), ('kyleabeauchamp/mdtraj', 1), ('combust/mleap', 1), ('M-R-Houghton/euroscipy_2015', 1), ('spartazhihu/FISF', 1), ('ChenglongChen/Kaggle_HomeDepot', 1), ('iskandr/fancyimpute', 1), ('shincling/MemNN_and_Varieties', 1), ('jat255/hyperspyUI', 1), ('MaxHalford/xam', 1), ('abhi252/GloVeGraphs', 1), ('EpistasisLab/scikit-rebate', 1), ('dpukhkaiev/BRISE', 1), ('davharris/leafpuppy', 1), ('timestocome/islr', 1), ('whitewhim2718/python-qinfer', 1), ('BenSchannes/Epidemium', 1), ('GreenGear5/planet-wars', 1), ('IntelPNI/brainiak', 1), ('dr-rodriguez/Exploring-Goodreads', 1), ('neale/CS-program', 1), ('rrubino/B6-SFB1102', 1), ('RichardLMR/generic-qsar-py-utils', 1), ('rupendrab/py_unstr_parse', 1), ('andressotov/News-Categorization-MNB', 1), ('checkvisa/regression', 1), ('arthurmensch/modl', 1), ('shellyjang/gchat_analysis', 1), ('javierarilos/market_session', 1), ('SaswatPadhi/ProfilingExperiments', 1), ('jpzk/evopy', 1), ('beeva-nievesabalos/ml-classifier-inbox', 1), ('arranger1044/spyn', 1), ('MayankTi/aiva', 1)]\n"
     ]
    }
   ],
   "source": [
    "print(top20_imports)"
   ]
  },
  {
   "cell_type": "code",
   "execution_count": 21,
   "metadata": {
    "collapsed": false
   },
   "outputs": [
    {
     "name": "stdout",
     "output_type": "stream",
     "text": [
      "100\n"
     ]
    }
   ],
   "source": [
    "# Verify that the the count matches\n",
    "print(sum([count for _, count in top20_imports])) # 100"
   ]
  },
  {
   "cell_type": "markdown",
   "metadata": {},
   "source": [
    "## Part 4: Most imported class/submodule/funcion"
   ]
  },
  {
   "cell_type": "markdown",
   "metadata": {},
   "source": [
    "Another common question is how often a certain class/submodule/function is imported. Odyssey can answer that too."
   ]
  },
  {
   "cell_type": "code",
   "execution_count": 22,
   "metadata": {
    "collapsed": false,
    "scrolled": true
   },
   "outputs": [],
   "source": [
    "top20_models = gp_sklearn_limited.get_most_imported_class(n=20)"
   ]
  },
  {
   "cell_type": "code",
   "execution_count": 23,
   "metadata": {
    "collapsed": false
   },
   "outputs": [
    {
     "name": "stdout",
     "output_type": "stream",
     "text": [
      "[('RandomForestClassifier', 11), ('LogisticRegression', 7), ('CountVectorizer', 6), ('SVC', 6), ('PCA', 5), ('TfidfTransformer', 5), ('LabelEncoder', 4), ('GridSearchCV', 4), ('GaussianNB', 3), ('TfidfVectorizer', 3), ('StandardScaler', 3), ('MultinomialNB', 3), ('Pipeline', 3), ('RandomForestRegressor', 3), ('MinMaxScaler', 2), ('GradientBoostingClassifier', 2), ('KNeighborsClassifier', 2), ('Imputer', 2), ('GradientBoostingRegressor', 2), ('Ridge', 2)]\n"
     ]
    }
   ],
   "source": [
    "print(top20_models)"
   ]
  },
  {
   "cell_type": "markdown",
   "metadata": {},
   "source": [
    "See what are the entries by calling get_import_source() "
   ]
  },
  {
   "cell_type": "code",
   "execution_count": 24,
   "metadata": {
    "collapsed": false
   },
   "outputs": [],
   "source": [
    "sources = gp_sklearn_limited.get_import_source(\"RandomForestClassifier\")"
   ]
  },
  {
   "cell_type": "code",
   "execution_count": 25,
   "metadata": {
    "collapsed": false
   },
   "outputs": [
    {
     "data": {
      "text/html": [
       "<style type=\"text/css\">.highlight .hll { background-color: #ffffcc }\n",
       ".highlight  { background: #f8f8f8; }\n",
       ".highlight .c { color: #408080; font-style: italic } /* Comment */\n",
       ".highlight .err { border: 1px solid #FF0000 } /* Error */\n",
       ".highlight .k { color: #008000; font-weight: bold } /* Keyword */\n",
       ".highlight .o { color: #666666 } /* Operator */\n",
       ".highlight .ch { color: #408080; font-style: italic } /* Comment.Hashbang */\n",
       ".highlight .cm { color: #408080; font-style: italic } /* Comment.Multiline */\n",
       ".highlight .cp { color: #BC7A00 } /* Comment.Preproc */\n",
       ".highlight .cpf { color: #408080; font-style: italic } /* Comment.PreprocFile */\n",
       ".highlight .c1 { color: #408080; font-style: italic } /* Comment.Single */\n",
       ".highlight .cs { color: #408080; font-style: italic } /* Comment.Special */\n",
       ".highlight .gd { color: #A00000 } /* Generic.Deleted */\n",
       ".highlight .ge { font-style: italic } /* Generic.Emph */\n",
       ".highlight .gr { color: #FF0000 } /* Generic.Error */\n",
       ".highlight .gh { color: #000080; font-weight: bold } /* Generic.Heading */\n",
       ".highlight .gi { color: #00A000 } /* Generic.Inserted */\n",
       ".highlight .go { color: #888888 } /* Generic.Output */\n",
       ".highlight .gp { color: #000080; font-weight: bold } /* Generic.Prompt */\n",
       ".highlight .gs { font-weight: bold } /* Generic.Strong */\n",
       ".highlight .gu { color: #800080; font-weight: bold } /* Generic.Subheading */\n",
       ".highlight .gt { color: #0044DD } /* Generic.Traceback */\n",
       ".highlight .kc { color: #008000; font-weight: bold } /* Keyword.Constant */\n",
       ".highlight .kd { color: #008000; font-weight: bold } /* Keyword.Declaration */\n",
       ".highlight .kn { color: #008000; font-weight: bold } /* Keyword.Namespace */\n",
       ".highlight .kp { color: #008000 } /* Keyword.Pseudo */\n",
       ".highlight .kr { color: #008000; font-weight: bold } /* Keyword.Reserved */\n",
       ".highlight .kt { color: #B00040 } /* Keyword.Type */\n",
       ".highlight .m { color: #666666 } /* Literal.Number */\n",
       ".highlight .s { color: #BA2121 } /* Literal.String */\n",
       ".highlight .na { color: #7D9029 } /* Name.Attribute */\n",
       ".highlight .nb { color: #008000 } /* Name.Builtin */\n",
       ".highlight .nc { color: #0000FF; font-weight: bold } /* Name.Class */\n",
       ".highlight .no { color: #880000 } /* Name.Constant */\n",
       ".highlight .nd { color: #AA22FF } /* Name.Decorator */\n",
       ".highlight .ni { color: #999999; font-weight: bold } /* Name.Entity */\n",
       ".highlight .ne { color: #D2413A; font-weight: bold } /* Name.Exception */\n",
       ".highlight .nf { color: #0000FF } /* Name.Function */\n",
       ".highlight .nl { color: #A0A000 } /* Name.Label */\n",
       ".highlight .nn { color: #0000FF; font-weight: bold } /* Name.Namespace */\n",
       ".highlight .nt { color: #008000; font-weight: bold } /* Name.Tag */\n",
       ".highlight .nv { color: #19177C } /* Name.Variable */\n",
       ".highlight .ow { color: #AA22FF; font-weight: bold } /* Operator.Word */\n",
       ".highlight .w { color: #bbbbbb } /* Text.Whitespace */\n",
       ".highlight .mb { color: #666666 } /* Literal.Number.Bin */\n",
       ".highlight .mf { color: #666666 } /* Literal.Number.Float */\n",
       ".highlight .mh { color: #666666 } /* Literal.Number.Hex */\n",
       ".highlight .mi { color: #666666 } /* Literal.Number.Integer */\n",
       ".highlight .mo { color: #666666 } /* Literal.Number.Oct */\n",
       ".highlight .sb { color: #BA2121 } /* Literal.String.Backtick */\n",
       ".highlight .sc { color: #BA2121 } /* Literal.String.Char */\n",
       ".highlight .sd { color: #BA2121; font-style: italic } /* Literal.String.Doc */\n",
       ".highlight .s2 { color: #BA2121 } /* Literal.String.Double */\n",
       ".highlight .se { color: #BB6622; font-weight: bold } /* Literal.String.Escape */\n",
       ".highlight .sh { color: #BA2121 } /* Literal.String.Heredoc */\n",
       ".highlight .si { color: #BB6688; font-weight: bold } /* Literal.String.Interpol */\n",
       ".highlight .sx { color: #008000 } /* Literal.String.Other */\n",
       ".highlight .sr { color: #BB6688 } /* Literal.String.Regex */\n",
       ".highlight .s1 { color: #BA2121 } /* Literal.String.Single */\n",
       ".highlight .ss { color: #19177C } /* Literal.String.Symbol */\n",
       ".highlight .bp { color: #008000 } /* Name.Builtin.Pseudo */\n",
       ".highlight .vc { color: #19177C } /* Name.Variable.Class */\n",
       ".highlight .vg { color: #19177C } /* Name.Variable.Global */\n",
       ".highlight .vi { color: #19177C } /* Name.Variable.Instance */\n",
       ".highlight .il { color: #666666 } /* Literal.Number.Integer.Long */</style><div class=\"highlight\"><pre><span></span><span class=\"c1\"># coding: utf-8</span>\n",
       "\n",
       "<span class=\"c1\"># ### Open using Jupyter Notebook. It holds the code and visualizations for developing the different classification algorithms (LibSVM, RBF SVM, Naive Bayes, Random Forest, Gradient Boosting) on the chosen subset of important features. </span>\n",
       "\n",
       "<span class=\"c1\"># In[27]:</span>\n",
       "\n",
       "<span class=\"kn\">import</span> <span class=\"nn\">pandas</span> <span class=\"kn\">as</span> <span class=\"nn\">pd</span>\n",
       "<span class=\"kn\">import</span> <span class=\"nn\">numpy</span> <span class=\"kn\">as</span> <span class=\"nn\">np</span>\n",
       "<span class=\"kn\">from</span> <span class=\"nn\">numpy</span> <span class=\"kn\">import</span> <span class=\"n\">sort</span>\n",
       "<span class=\"kn\">from</span> <span class=\"nn\">sklearn.metrics</span> <span class=\"kn\">import</span> <span class=\"n\">matthews_corrcoef</span><span class=\"p\">,</span> <span class=\"n\">accuracy_score</span><span class=\"p\">,</span><span class=\"n\">confusion_matrix</span>\n",
       "<span class=\"kn\">from</span> <span class=\"nn\">sklearn.feature_selection</span> <span class=\"kn\">import</span> <span class=\"n\">SelectFromModel</span>\n",
       "<span class=\"kn\">from</span> <span class=\"nn\">matplotlib</span> <span class=\"kn\">import</span> <span class=\"n\">pyplot</span>\n",
       "<span class=\"kn\">import</span> <span class=\"nn\">pylab</span> <span class=\"kn\">as</span> <span class=\"nn\">pl</span>\n",
       "<span class=\"kn\">from</span> <span class=\"nn\">sklearn</span> <span class=\"kn\">import</span> <span class=\"n\">svm</span>\n",
       "\n",
       "<span class=\"n\">get_ipython</span><span class=\"p\">()</span><span class=\"o\">.</span><span class=\"n\">magic</span><span class=\"p\">(</span><span class=\"s1\">u&#39;matplotlib inline&#39;</span><span class=\"p\">)</span>\n",
       "\n",
       "\n",
       "<span class=\"c1\"># In[4]:</span>\n",
       "\n",
       "<span class=\"n\">SEED</span> <span class=\"o\">=</span> <span class=\"mi\">1234</span>\n",
       "<span class=\"c1\">## Selected set of most important features</span>\n",
       "\n",
       "<span class=\"n\">featureSet</span><span class=\"o\">=</span><span class=\"p\">[</span><span class=\"s1\">&#39;L3_S31_F3846&#39;</span><span class=\"p\">,</span><span class=\"s1\">&#39;L1_S24_F1578&#39;</span><span class=\"p\">,</span><span class=\"s1\">&#39;L3_S33_F3857&#39;</span><span class=\"p\">,</span><span class=\"s1\">&#39;L1_S24_F1406&#39;</span><span class=\"p\">,</span><span class=\"s1\">&#39;L3_S29_F3348&#39;</span><span class=\"p\">,</span><span class=\"s1\">&#39;L3_S33_F3863&#39;</span><span class=\"p\">,</span>\n",
       "            <span class=\"s1\">&#39;L3_S29_F3427&#39;</span><span class=\"p\">,</span><span class=\"s1\">&#39;L3_S37_F3950&#39;</span><span class=\"p\">,</span><span class=\"s1\">&#39;L0_S9_F170&#39;</span><span class=\"p\">,</span> <span class=\"s1\">&#39;L3_S29_F3321&#39;</span><span class=\"p\">,</span><span class=\"s1\">&#39;L1_S24_F1346&#39;</span><span class=\"p\">,</span><span class=\"s1\">&#39;L3_S32_F3850&#39;</span><span class=\"p\">,</span>\n",
       "            <span class=\"s1\">&#39;L3_S30_F3514&#39;</span><span class=\"p\">,</span><span class=\"s1\">&#39;L1_S24_F1366&#39;</span><span class=\"p\">,</span><span class=\"s1\">&#39;L2_S26_F3036&#39;</span><span class=\"p\">]</span>\n",
       "\n",
       "<span class=\"n\">train_x</span> <span class=\"o\">=</span> <span class=\"n\">pd</span><span class=\"o\">.</span><span class=\"n\">read_csv</span><span class=\"p\">(</span><span class=\"s2\">&quot;../data/train_numeric.csv&quot;</span><span class=\"p\">,</span> <span class=\"n\">usecols</span><span class=\"o\">=</span><span class=\"n\">featureSet</span><span class=\"p\">)</span>\n",
       "<span class=\"n\">train_y</span> <span class=\"o\">=</span> <span class=\"n\">pd</span><span class=\"o\">.</span><span class=\"n\">read_csv</span><span class=\"p\">(</span><span class=\"s2\">&quot;../data/train_numeric.csv&quot;</span><span class=\"p\">,</span> <span class=\"n\">usecols</span><span class=\"o\">=</span><span class=\"p\">[</span><span class=\"s1\">&#39;Response&#39;</span><span class=\"p\">])</span>\n",
       "\n",
       "\n",
       "<span class=\"c1\"># In[5]:</span>\n",
       "\n",
       "<span class=\"n\">test_x</span> <span class=\"o\">=</span> <span class=\"n\">pd</span><span class=\"o\">.</span><span class=\"n\">read_csv</span><span class=\"p\">(</span><span class=\"s2\">&quot;../data/test_numeric.csv&quot;</span><span class=\"p\">,</span> <span class=\"n\">usecols</span><span class=\"o\">=</span><span class=\"n\">featureSet</span><span class=\"p\">)</span>\n",
       "\n",
       "\n",
       "<span class=\"c1\"># In[6]:</span>\n",
       "\n",
       "<span class=\"n\">train_x</span> <span class=\"o\">=</span> <span class=\"n\">train_x</span><span class=\"o\">.</span><span class=\"n\">fillna</span><span class=\"p\">(</span><span class=\"mi\">9999999</span><span class=\"p\">)</span>\n",
       "<span class=\"n\">msk</span> <span class=\"o\">=</span> <span class=\"n\">np</span><span class=\"o\">.</span><span class=\"n\">random</span><span class=\"o\">.</span><span class=\"n\">rand</span><span class=\"p\">(</span><span class=\"nb\">len</span><span class=\"p\">(</span><span class=\"n\">train_x</span><span class=\"p\">))</span> <span class=\"o\">&lt;</span> <span class=\"mf\">0.7</span>  <span class=\"c1\"># creating Training and validation set </span>\n",
       "\n",
       "\n",
       "<span class=\"n\">X_train</span> <span class=\"o\">=</span> <span class=\"n\">train_x</span><span class=\"p\">[</span><span class=\"n\">msk</span><span class=\"p\">]</span>\n",
       "\n",
       "<span class=\"n\">Y_train</span> <span class=\"o\">=</span> <span class=\"n\">train_y</span><span class=\"o\">.</span><span class=\"n\">Response</span><span class=\"o\">.</span><span class=\"n\">ravel</span><span class=\"p\">()[</span><span class=\"n\">msk</span><span class=\"p\">]</span>\n",
       "\n",
       "<span class=\"n\">X_valid</span> <span class=\"o\">=</span> <span class=\"n\">train_x</span><span class=\"p\">[</span><span class=\"o\">~</span><span class=\"n\">msk</span><span class=\"p\">]</span>\n",
       "<span class=\"n\">Y_valid</span> <span class=\"o\">=</span> <span class=\"n\">train_y</span><span class=\"o\">.</span><span class=\"n\">Response</span><span class=\"o\">.</span><span class=\"n\">ravel</span><span class=\"p\">()[</span><span class=\"o\">~</span><span class=\"n\">msk</span><span class=\"p\">]</span>\n",
       "\n",
       "\n",
       "<span class=\"c1\"># In[7]:</span>\n",
       "\n",
       "<span class=\"k\">def</span> <span class=\"nf\">showconfusionmatrix</span><span class=\"p\">(</span><span class=\"n\">cm</span><span class=\"p\">,</span> <span class=\"n\">typeModel</span><span class=\"p\">):</span>\n",
       "    <span class=\"n\">pl</span><span class=\"o\">.</span><span class=\"n\">matshow</span><span class=\"p\">(</span><span class=\"n\">cm</span><span class=\"p\">)</span>\n",
       "    <span class=\"n\">pl</span><span class=\"o\">.</span><span class=\"n\">title</span><span class=\"p\">(</span><span class=\"s1\">&#39;Confusion matrix for &#39;</span><span class=\"o\">+</span><span class=\"n\">typeModel</span><span class=\"p\">)</span>\n",
       "    <span class=\"n\">pl</span><span class=\"o\">.</span><span class=\"n\">colorbar</span><span class=\"p\">()</span>\n",
       "    <span class=\"n\">pl</span><span class=\"o\">.</span><span class=\"n\">show</span><span class=\"p\">()</span>\n",
       "\n",
       "\n",
       "<span class=\"c1\"># In[24]:</span>\n",
       "\n",
       "<span class=\"kn\">from</span> <span class=\"nn\">sklearn.ensemble</span> <span class=\"kn\">import</span> <span class=\"n\">RandomForestClassifier</span><span class=\"p\">,</span> <span class=\"n\">GradientBoostingClassifier</span>\n",
       "\n",
       "<span class=\"n\">C</span><span class=\"o\">=</span><span class=\"mi\">4</span>\n",
       "<span class=\"n\">lin_svc</span> <span class=\"o\">=</span> <span class=\"n\">svm</span><span class=\"o\">.</span><span class=\"n\">LinearSVC</span><span class=\"p\">(</span><span class=\"n\">C</span><span class=\"o\">=</span><span class=\"n\">C</span><span class=\"p\">)</span><span class=\"o\">.</span><span class=\"n\">fit</span><span class=\"p\">(</span><span class=\"n\">X_train</span><span class=\"p\">,</span> <span class=\"n\">Y_train</span><span class=\"p\">)</span>\n",
       "<span class=\"k\">print</span> <span class=\"s2\">&quot;LibSVM fitted&quot;</span>\n",
       "\n",
       "<span class=\"n\">title</span> <span class=\"o\">=</span> <span class=\"s1\">&#39;LinearSVC (linear kernel)&#39;</span>\n",
       "\n",
       "<span class=\"n\">predicted</span> <span class=\"o\">=</span> <span class=\"n\">lin_svc</span><span class=\"o\">.</span><span class=\"n\">predict</span><span class=\"p\">(</span><span class=\"n\">X_valid</span><span class=\"p\">)</span>\n",
       "<span class=\"n\">mcc</span><span class=\"o\">=</span> <span class=\"n\">matthews_corrcoef</span><span class=\"p\">(</span><span class=\"n\">Y_valid</span><span class=\"p\">,</span> <span class=\"n\">predicted</span><span class=\"p\">)</span>\n",
       "<span class=\"k\">print</span> <span class=\"s2\">&quot;MCC Score </span><span class=\"se\">\\t</span><span class=\"s2\"> +&quot;</span><span class=\"o\">+</span><span class=\"n\">title</span><span class=\"o\">+</span><span class=\"nb\">str</span><span class=\"p\">(</span><span class=\"n\">mcc</span><span class=\"p\">)</span>\n",
       "\n",
       "<span class=\"n\">cm</span> <span class=\"o\">=</span> <span class=\"n\">confusion_matrix</span><span class=\"p\">(</span><span class=\"n\">predicted</span><span class=\"p\">,</span> <span class=\"n\">Y_valid</span><span class=\"p\">)</span>\n",
       "<span class=\"n\">showconfusionmatrix</span><span class=\"p\">(</span><span class=\"n\">cm</span><span class=\"p\">,</span> <span class=\"n\">title</span><span class=\"p\">)</span>\n",
       "<span class=\"k\">print</span> <span class=\"s2\">&quot;Confusion Matrix&quot;</span>\n",
       "<span class=\"k\">print</span> <span class=\"p\">(</span><span class=\"n\">cm</span><span class=\"p\">)</span>\n",
       "\n",
       "\n",
       "<span class=\"c1\"># In[22]:</span>\n",
       "\n",
       "<span class=\"kn\">from</span> <span class=\"nn\">sklearn.ensemble</span> <span class=\"kn\">import</span> <span class=\"n\">RandomForestClassifier</span><span class=\"p\">,</span> <span class=\"n\">GradientBoostingClassifier</span>\n",
       "\n",
       "<span class=\"n\">C</span><span class=\"o\">=</span><span class=\"mi\">4</span>\n",
       "<span class=\"n\">rbf_svc</span> <span class=\"o\">=</span> <span class=\"n\">svm</span><span class=\"o\">.</span><span class=\"n\">SVC</span><span class=\"p\">(</span><span class=\"n\">kernel</span><span class=\"o\">=</span><span class=\"s1\">&#39;rbf&#39;</span><span class=\"p\">,</span> <span class=\"n\">gamma</span><span class=\"o\">=</span><span class=\"mf\">0.7</span><span class=\"p\">,</span> <span class=\"n\">C</span><span class=\"o\">=</span><span class=\"n\">C</span><span class=\"p\">)</span><span class=\"o\">.</span><span class=\"n\">fit</span><span class=\"p\">(</span><span class=\"n\">X_train</span><span class=\"p\">,</span> <span class=\"n\">Y_train</span><span class=\"p\">)</span>\n",
       "<span class=\"k\">print</span> <span class=\"s2\">&quot;RBF fitted&quot;</span>\n",
       "\n",
       "\n",
       "<span class=\"n\">title</span> <span class=\"o\">=</span> <span class=\"s1\">&#39;SVC with RBF kernel&#39;</span>\n",
       "\n",
       "<span class=\"n\">predicted</span> <span class=\"o\">=</span> <span class=\"n\">rbf_svc</span><span class=\"o\">.</span><span class=\"n\">predict</span><span class=\"p\">(</span><span class=\"n\">X_valid</span><span class=\"p\">)</span>\n",
       "<span class=\"n\">mcc</span><span class=\"o\">=</span> <span class=\"n\">matthews_corrcoef</span><span class=\"p\">(</span><span class=\"n\">Y_valid</span><span class=\"p\">,</span> <span class=\"n\">predicted</span><span class=\"p\">)</span>\n",
       "<span class=\"k\">print</span> <span class=\"s2\">&quot;MCC Score </span><span class=\"se\">\\t</span><span class=\"s2\"> +&quot;</span><span class=\"o\">+</span><span class=\"n\">title</span><span class=\"o\">+</span><span class=\"nb\">str</span><span class=\"p\">(</span><span class=\"n\">mcc</span><span class=\"p\">)</span>\n",
       "\n",
       "<span class=\"n\">cm</span> <span class=\"o\">=</span> <span class=\"n\">confusion_matrix</span><span class=\"p\">(</span><span class=\"n\">predicted</span><span class=\"p\">,</span> <span class=\"n\">Y_valid</span><span class=\"p\">)</span>\n",
       "<span class=\"n\">showconfusionmatrix</span><span class=\"p\">(</span><span class=\"n\">cm</span><span class=\"p\">,</span> <span class=\"n\">title</span><span class=\"p\">)</span>\n",
       "<span class=\"k\">print</span> <span class=\"s2\">&quot;Confusion Matrix&quot;</span>\n",
       "<span class=\"k\">print</span> <span class=\"p\">(</span><span class=\"n\">cm</span><span class=\"p\">)</span>\n",
       "\n",
       "\n",
       "<span class=\"c1\"># In[10]:</span>\n",
       "\n",
       "\n",
       "<span class=\"kn\">from</span> <span class=\"nn\">sklearn.naive_bayes</span> <span class=\"kn\">import</span> <span class=\"n\">GaussianNB</span>\n",
       "\n",
       "<span class=\"n\">gnb</span> <span class=\"o\">=</span> <span class=\"n\">GaussianNB</span><span class=\"p\">()</span>\n",
       "\n",
       "<span class=\"n\">clf</span> <span class=\"o\">=</span> <span class=\"n\">gnb</span><span class=\"o\">.</span><span class=\"n\">fit</span><span class=\"p\">(</span><span class=\"n\">X_train</span><span class=\"p\">,</span><span class=\"n\">Y_train</span><span class=\"p\">)</span>\n",
       "<span class=\"k\">print</span> <span class=\"s2\">&quot;Naive Bayes Fitted&quot;</span>\n",
       "\n",
       "\n",
       "<span class=\"n\">title</span> <span class=\"o\">=</span> <span class=\"s1\">&#39;Naive Bayes&#39;</span>\n",
       "\n",
       "<span class=\"n\">predicted</span> <span class=\"o\">=</span> <span class=\"n\">clf</span><span class=\"o\">.</span><span class=\"n\">predict</span><span class=\"p\">(</span><span class=\"n\">X_valid</span><span class=\"p\">)</span>\n",
       "\n",
       "\n",
       "<span class=\"n\">mcc</span><span class=\"o\">=</span> <span class=\"n\">matthews_corrcoef</span><span class=\"p\">(</span><span class=\"n\">Y_valid</span><span class=\"p\">,</span> <span class=\"n\">predicted</span><span class=\"p\">)</span>\n",
       "<span class=\"k\">print</span> <span class=\"s2\">&quot;MCC Score </span><span class=\"se\">\\t</span><span class=\"s2\"> +&quot;</span><span class=\"o\">+</span><span class=\"n\">title</span><span class=\"o\">+</span><span class=\"nb\">str</span><span class=\"p\">(</span><span class=\"n\">mcc</span><span class=\"p\">)</span>\n",
       "\n",
       "<span class=\"n\">cm</span> <span class=\"o\">=</span> <span class=\"n\">confusion_matrix</span><span class=\"p\">(</span><span class=\"n\">predicted</span><span class=\"p\">,</span> <span class=\"n\">Y_valid</span><span class=\"p\">)</span>\n",
       "<span class=\"n\">showconfusionmatrix</span><span class=\"p\">(</span><span class=\"n\">cm</span><span class=\"p\">,</span> <span class=\"n\">title</span><span class=\"p\">)</span>\n",
       "<span class=\"k\">print</span> <span class=\"s2\">&quot;Confusion Matrix&quot;</span>\n",
       "<span class=\"k\">print</span> <span class=\"p\">(</span><span class=\"n\">cm</span><span class=\"p\">)</span>\n",
       "\n",
       "\n",
       "<span class=\"c1\"># In[21]:</span>\n",
       "\n",
       "<span class=\"kn\">from</span> <span class=\"nn\">sklearn.ensemble</span> <span class=\"kn\">import</span> <span class=\"n\">RandomForestClassifier</span><span class=\"p\">,</span> <span class=\"n\">GradientBoostingClassifier</span>\n",
       "<span class=\"kn\">from</span> <span class=\"nn\">sklearn.cross_validation</span> <span class=\"kn\">import</span> <span class=\"n\">cross_val_score</span>\n",
       "<span class=\"kn\">from</span> <span class=\"nn\">sklearn.model_selection</span> <span class=\"kn\">import</span> <span class=\"n\">GridSearchCV</span>\n",
       "\n",
       "\n",
       "<span class=\"c1\"># In[23]:</span>\n",
       "\n",
       "<span class=\"n\">rf</span> <span class=\"o\">=</span> <span class=\"n\">RandomForestClassifier</span><span class=\"p\">(</span><span class=\"n\">n_estimators</span><span class=\"o\">=</span><span class=\"mi\">20</span><span class=\"p\">,</span> <span class=\"n\">n_jobs</span><span class=\"o\">=</span><span class=\"mi\">2</span><span class=\"p\">)</span>\n",
       "<span class=\"n\">param_grid</span> <span class=\"o\">=</span> <span class=\"p\">{</span>\n",
       "                 <span class=\"s1\">&#39;n_estimators&#39;</span><span class=\"p\">:</span> <span class=\"p\">[</span><span class=\"mi\">5</span><span class=\"p\">,</span> <span class=\"mi\">10</span><span class=\"p\">,</span> <span class=\"mi\">15</span><span class=\"p\">,</span> <span class=\"mi\">20</span><span class=\"p\">],</span>\n",
       "                 <span class=\"s1\">&#39;max_depth&#39;</span><span class=\"p\">:</span> <span class=\"p\">[</span><span class=\"mi\">2</span><span class=\"p\">,</span> <span class=\"mi\">5</span><span class=\"p\">,</span> <span class=\"mi\">7</span><span class=\"p\">,</span> <span class=\"mi\">9</span><span class=\"p\">]</span>\n",
       "             <span class=\"p\">}</span>\n",
       "\n",
       "\n",
       "<span class=\"c1\"># In[24]:</span>\n",
       "\n",
       "<span class=\"n\">grid_rf</span> <span class=\"o\">=</span> <span class=\"n\">GridSearchCV</span><span class=\"p\">(</span><span class=\"n\">rf</span><span class=\"p\">,</span> <span class=\"n\">param_grid</span><span class=\"p\">,</span> <span class=\"n\">cv</span><span class=\"o\">=</span><span class=\"mi\">10</span><span class=\"p\">)</span>\n",
       "<span class=\"n\">rf_model</span><span class=\"o\">=</span><span class=\"n\">grid_rf</span><span class=\"o\">.</span><span class=\"n\">fit</span><span class=\"p\">(</span><span class=\"n\">X_train</span><span class=\"p\">,</span> <span class=\"n\">Y_train</span><span class=\"p\">)</span>\n",
       "\n",
       "\n",
       "<span class=\"c1\"># In[30]:</span>\n",
       "\n",
       "<span class=\"k\">print</span> <span class=\"s2\">&quot;RF fitted&quot;</span>\n",
       "\n",
       "<span class=\"n\">titles</span> <span class=\"o\">=</span> <span class=\"s1\">&#39;Random Forest&#39;</span>\n",
       "\n",
       "<span class=\"n\">predicted</span> <span class=\"o\">=</span> <span class=\"n\">rf_model</span><span class=\"o\">.</span><span class=\"n\">predict</span><span class=\"p\">(</span><span class=\"n\">X_valid</span><span class=\"p\">)</span>\n",
       "<span class=\"n\">mcc</span><span class=\"o\">=</span> <span class=\"n\">matthews_corrcoef</span><span class=\"p\">(</span><span class=\"n\">Y_valid</span><span class=\"p\">,</span> <span class=\"n\">predicted</span><span class=\"p\">)</span>\n",
       "<span class=\"k\">print</span> <span class=\"s2\">&quot;MCC Score </span><span class=\"se\">\\t</span><span class=\"s2\"> +&quot;</span><span class=\"o\">+</span><span class=\"n\">titles</span><span class=\"p\">[</span><span class=\"mi\">0</span><span class=\"p\">]</span><span class=\"o\">+</span><span class=\"nb\">str</span><span class=\"p\">(</span><span class=\"n\">mcc</span><span class=\"p\">)</span>\n",
       "\n",
       "<span class=\"n\">cm</span> <span class=\"o\">=</span> <span class=\"n\">confusion_matrix</span><span class=\"p\">(</span><span class=\"n\">predicted</span><span class=\"p\">,</span> <span class=\"n\">Y_valid</span><span class=\"p\">)</span>\n",
       "<span class=\"n\">showconfusionmatrix</span><span class=\"p\">(</span><span class=\"n\">cm</span><span class=\"p\">,</span> <span class=\"n\">titles</span><span class=\"p\">[</span><span class=\"mi\">0</span><span class=\"p\">])</span>\n",
       "\n",
       "\n",
       "<span class=\"c1\"># In[31]:</span>\n",
       "\n",
       "<span class=\"n\">gb</span> <span class=\"o\">=</span> <span class=\"n\">GradientBoostingClassifier</span><span class=\"p\">(</span><span class=\"n\">learning_rate</span><span class=\"o\">=</span><span class=\"mf\">0.5</span><span class=\"p\">)</span>\n",
       "<span class=\"n\">param_grid</span> <span class=\"o\">=</span> <span class=\"p\">{</span>\n",
       "                 <span class=\"s1\">&#39;n_estimators&#39;</span><span class=\"p\">:</span> <span class=\"p\">[</span><span class=\"mi\">5</span><span class=\"p\">,</span> <span class=\"mi\">10</span><span class=\"p\">,</span> <span class=\"mi\">15</span><span class=\"p\">,</span> <span class=\"mi\">20</span><span class=\"p\">],</span>\n",
       "                 <span class=\"s1\">&#39;max_depth&#39;</span><span class=\"p\">:</span> <span class=\"p\">[</span><span class=\"mi\">2</span><span class=\"p\">,</span> <span class=\"mi\">5</span><span class=\"p\">,</span> <span class=\"mi\">7</span><span class=\"p\">,</span> <span class=\"mi\">9</span><span class=\"p\">]</span>\n",
       "             <span class=\"p\">}</span>\n",
       "\n",
       "\n",
       "<span class=\"c1\"># In[32]:</span>\n",
       "\n",
       "<span class=\"n\">grid_gb</span> <span class=\"o\">=</span> <span class=\"n\">GridSearchCV</span><span class=\"p\">(</span><span class=\"n\">gb</span><span class=\"p\">,</span> <span class=\"n\">param_grid</span><span class=\"p\">,</span> <span class=\"n\">cv</span><span class=\"o\">=</span><span class=\"mi\">10</span><span class=\"p\">)</span>\n",
       "<span class=\"n\">gb_model</span><span class=\"o\">=</span><span class=\"n\">grid_gb</span><span class=\"o\">.</span><span class=\"n\">fit</span><span class=\"p\">(</span><span class=\"n\">X_train</span><span class=\"p\">,</span> <span class=\"n\">Y_train</span><span class=\"p\">)</span>\n",
       "\n",
       "\n",
       "<span class=\"c1\"># In[36]:</span>\n",
       "\n",
       "<span class=\"k\">print</span> <span class=\"s2\">&quot;GB fitted&quot;</span>\n",
       "\n",
       "<span class=\"n\">title</span> <span class=\"o\">=</span> <span class=\"s1\">&#39;Gradient Boosting&#39;</span>\n",
       "\n",
       "<span class=\"n\">predicted</span> <span class=\"o\">=</span> <span class=\"n\">gb_model</span><span class=\"o\">.</span><span class=\"n\">predict</span><span class=\"p\">(</span><span class=\"n\">X_valid</span><span class=\"p\">)</span>\n",
       "<span class=\"n\">mcc</span><span class=\"o\">=</span> <span class=\"n\">matthews_corrcoef</span><span class=\"p\">(</span><span class=\"n\">Y_valid</span><span class=\"p\">,</span> <span class=\"n\">predicted</span><span class=\"p\">)</span>\n",
       "<span class=\"k\">print</span> <span class=\"s2\">&quot;MCC Score </span><span class=\"se\">\\t</span><span class=\"s2\"> +&quot;</span><span class=\"o\">+</span><span class=\"n\">title</span><span class=\"o\">+</span><span class=\"nb\">str</span><span class=\"p\">(</span><span class=\"n\">mcc</span><span class=\"p\">)</span>\n",
       "\n",
       "<span class=\"n\">cm</span> <span class=\"o\">=</span> <span class=\"n\">confusion_matrix</span><span class=\"p\">(</span><span class=\"n\">predicted</span><span class=\"p\">,</span> <span class=\"n\">Y_valid</span><span class=\"p\">)</span>\n",
       "<span class=\"n\">showconfusionmatrix</span><span class=\"p\">(</span><span class=\"n\">cm</span><span class=\"p\">,</span> <span class=\"n\">title</span><span class=\"p\">)</span>\n",
       "</pre></div>\n"
      ],
      "text/plain": [
       "<IPython.core.display.HTML object>"
      ]
     },
     "metadata": {},
     "output_type": "display_data"
    }
   ],
   "source": [
    "pprint_ipynb(sources[0])"
   ]
  },
  {
   "cell_type": "markdown",
   "metadata": {},
   "source": [
    "## Part 5: Instantiation"
   ]
  },
  {
   "cell_type": "markdown",
   "metadata": {},
   "source": [
    "For classes, Odyssey can provide you with insights about how they are instantiated, default argument value people use, etc."
   ]
  },
  {
   "cell_type": "markdown",
   "metadata": {},
   "source": [
    "**Note: All the arguments in the returned dictionary are in string format (even for integer values). This may be changed later.**"
   ]
  },
  {
   "cell_type": "code",
   "execution_count": 26,
   "metadata": {
    "collapsed": false
   },
   "outputs": [],
   "source": [
    "rfc_instantiation = gp_sklearn_limited.get_instantiation(\"RandomForestClassifier\")"
   ]
  },
  {
   "cell_type": "code",
   "execution_count": 27,
   "metadata": {
    "collapsed": false
   },
   "outputs": [
    {
     "data": {
      "text/plain": [
       "defaultdict(<function odyssey.core.analyzer.InstantiationAnalyzer.InstantiationAnalyzer.__init__.<locals>.<lambda>>,\n",
       "            {'**': defaultdict(int, {None: 1}),\n",
       "             '**classif_base.get_params()': defaultdict(int, {None: 1}),\n",
       "             '**cls_kwargs': defaultdict(int, {None: 1}),\n",
       "             '**params': defaultdict(int, {None: 1}),\n",
       "             '**rf_config': defaultdict(int, {None: 1}),\n",
       "             '**rf_parameters': defaultdict(int, {None: 1}),\n",
       "             'bootstrap': defaultdict(int,\n",
       "                         {'False': 1,\n",
       "                          'True': 1,\n",
       "                          'estimator.best_estimator_.bootstrap': 1}),\n",
       "             'class_weight': defaultdict(int,\n",
       "                         {'\"balanced\"': 2, \"'balanced'\": 1, 'None': 1}),\n",
       "             'compute_importances': defaultdict(int, {'True': 1}),\n",
       "             'criterion': defaultdict(int,\n",
       "                         {'\"gini\"': 1,\n",
       "                          \"'entropy'\": 2,\n",
       "                          \"'gini'\": 3,\n",
       "                          'estimator.best_estimator_.criterion': 1}),\n",
       "             'max_depth': defaultdict(int,\n",
       "                         {'10': 2,\n",
       "                          '4': 1,\n",
       "                          'C': 2,\n",
       "                          'None': 6,\n",
       "                          'depth': 1,\n",
       "                          'estimator.best_estimator_.max_depth': 1,\n",
       "                          'max_d': 1,\n",
       "                          'max_depth': 2}),\n",
       "             'max_features': defaultdict(int,\n",
       "                         {'\"sqrt\"': 1,\n",
       "                          \"'auto'\": 1,\n",
       "                          \"'sqrt'\": 3,\n",
       "                          '0.7': 1,\n",
       "                          'None': 2,\n",
       "                          \"best_params[dataset_name][method_name][nr_events]['rf_max_features']\": 1,\n",
       "                          'int(mtry)': 1,\n",
       "                          'max_f': 1,\n",
       "                          'max_features': 1,\n",
       "                          'rf_max_features': 2}),\n",
       "             'max_leaf_nodes': defaultdict(int, {'None': 1}),\n",
       "             'min_impurity_split': defaultdict(int, {'1e-07': 1}),\n",
       "             'min_samples_leaf': defaultdict(int, {'1': 2, '100': 1}),\n",
       "             'min_samples_split': defaultdict(int,\n",
       "                         {'1': 4, '1000': 1, '2': 3, '5': 2, '50': 1}),\n",
       "             'min_weight_fraction_leaf': defaultdict(int, {'0.0': 1}),\n",
       "             'n_estimators': defaultdict(int,\n",
       "                         {'10': 7,\n",
       "                          '100': 14,\n",
       "                          '1000': 2,\n",
       "                          '101': 1,\n",
       "                          '150': 2,\n",
       "                          '20': 1,\n",
       "                          '200': 2,\n",
       "                          '2000': 2,\n",
       "                          '30': 3,\n",
       "                          '300': 3,\n",
       "                          '50': 1,\n",
       "                          '500': 1,\n",
       "                          '60': 1,\n",
       "                          'estimators': 1,\n",
       "                          'n_est': 1,\n",
       "                          'n_estimators': 5,\n",
       "                          'ntrees': 1,\n",
       "                          'rf_n_estimators': 3}),\n",
       "             'n_jobs': defaultdict(int,\n",
       "                         {' -1': 1,\n",
       "                          '-1': 14,\n",
       "                          '1': 1,\n",
       "                          '12': 2,\n",
       "                          '2': 1,\n",
       "                          '3': 1,\n",
       "                          'n_jobs': 2,\n",
       "                          'options.pyxit_n_jobs': 1}),\n",
       "             'oob_score': defaultdict(int, {'False': 1, 'True': 1}),\n",
       "             'random_state': defaultdict(int,\n",
       "                         {'0': 14,\n",
       "                          '1': 3,\n",
       "                          '4': 2,\n",
       "                          '42': 1,\n",
       "                          'None': 1,\n",
       "                          'RND_SEED': 2,\n",
       "                          'np.random.RandomState(0)': 1,\n",
       "                          'random_state': 6,\n",
       "                          'seed': 1,\n",
       "                          'self.random_state': 1}),\n",
       "             'verbose': defaultdict(int,\n",
       "                         {'0': 1, '2': 1, 'options.verbose': 1, 'verbose': 2}),\n",
       "             'warm_start': defaultdict(int, {'False': 1})})"
      ]
     },
     "execution_count": 27,
     "metadata": {},
     "output_type": "execute_result"
    }
   ],
   "source": [
    "rfc_instantiation"
   ]
  }
 ],
 "metadata": {
  "anaconda-cloud": {},
  "kernelspec": {
   "display_name": "Python [default]",
   "language": "python",
   "name": "python3"
  },
  "language_info": {
   "codemirror_mode": {
    "name": "ipython",
    "version": 3
   },
   "file_extension": ".py",
   "mimetype": "text/x-python",
   "name": "python",
   "nbconvert_exporter": "python",
   "pygments_lexer": "ipython3",
   "version": "3.5.2"
  }
 },
 "nbformat": 4,
 "nbformat_minor": 2
}
